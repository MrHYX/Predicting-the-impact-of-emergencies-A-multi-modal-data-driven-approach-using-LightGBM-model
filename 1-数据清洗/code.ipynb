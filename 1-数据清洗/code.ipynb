{
 "cells": [
  {
   "cell_type": "code",
   "execution_count": 1,
   "id": "27a7c75b",
   "metadata": {},
   "outputs": [
    {
     "name": "stdout",
     "output_type": "stream",
     "text": [
      "*** Introductory Examples for the NLTK Book ***\n",
      "Loading text1, ..., text9 and sent1, ..., sent9\n",
      "Type the name of the text or sentence to view it.\n",
      "Type: 'texts()' or 'sents()' to list the materials.\n",
      "text1: Moby Dick by Herman Melville 1851\n",
      "text2: Sense and Sensibility by Jane Austen 1811\n",
      "text3: The Book of Genesis\n",
      "text4: Inaugural Address Corpus\n",
      "text5: Chat Corpus\n",
      "text6: Monty Python and the Holy Grail\n",
      "text7: Wall Street Journal\n",
      "text8: Personals Corpus\n",
      "text9: The Man Who Was Thursday by G . K . Chesterton 1908\n"
     ]
    }
   ],
   "source": [
    "import pandas as pd\n",
    "from bs4 import BeautifulSoup\n",
    "import re\n",
    "import nltk\n",
    "from nltk.book import *\n",
    "from nltk.corpus import stopwords\n",
    "import numpy as np\n",
    "import matplotlib.pyplot as plt\n",
    "import seaborn as sns\n",
    "from sklearn.preprocessing import LabelEncoder\n",
    "from sklearn.model_selection import KFold, train_test_split\n",
    "from sklearn.metrics import precision_recall_fscore_support, roc_auc_score\n",
    "import lightgbm as lgb\n",
    "from sklearn.preprocessing import label_binarize\n",
    "from sklearn.tree import DecisionTreeRegressor\n",
    "from tqdm import tqdm_notebook\n",
    "import joblib\n",
    "from collections import Counter\n",
    "from sklearn.metrics import precision_score, recall_score, f1_score, accuracy_score\n",
    "from collections import defaultdict\n",
    "from gensim import corpora\n",
    "from gensim import models\n",
    "import warnings\n",
    "warnings.filterwarnings('ignore')"
   ]
  },
  {
   "cell_type": "code",
   "execution_count": 2,
   "id": "5d8a961b",
   "metadata": {},
   "outputs": [
    {
     "name": "stdout",
     "output_type": "stream",
     "text": [
      "data_1_shape:  (209706, 135)\n",
      "data_2_shape:  (748, 135)\n"
     ]
    }
   ],
   "source": [
    "data_1 = pd.read_csv(\"globalterrorismdb_0522dist.csv\")\n",
    "print(\"data_1_shape: \",data_1.shape)\n",
    "\n",
    "data_2 = pd.read_csv(\"gtd1993_0221dist.csv\")\n",
    "print(\"data_2_shape: \", data_2.shape)"
   ]
  },
  {
   "cell_type": "code",
   "execution_count": 3,
   "id": "9850c83e",
   "metadata": {},
   "outputs": [
    {
     "name": "stdout",
     "output_type": "stream",
     "text": [
      "data_shape:  (210454, 135)\n"
     ]
    }
   ],
   "source": [
    "data = pd.concat([data_1, data_2], axis=0, ignore_index=True)\n",
    "print(\"data_shape: \", data.shape)"
   ]
  },
  {
   "cell_type": "code",
   "execution_count": 4,
   "id": "0421eb70",
   "metadata": {},
   "outputs": [],
   "source": [
    "data.to_csv('data_concat.csv', index=False, encoding='utf_8_sig')"
   ]
  },
  {
   "cell_type": "code",
   "execution_count": 5,
   "id": "4bd98137",
   "metadata": {
    "scrolled": true
   },
   "outputs": [
    {
     "name": "stdout",
     "output_type": "stream",
     "text": [
      "data_concat:  (210454, 135)\n"
     ]
    }
   ],
   "source": [
    "data = pd.read_csv(\"data_concat.csv\")\n",
    "print(\"data_concat: \", data.shape)"
   ]
  },
  {
   "cell_type": "code",
   "execution_count": 6,
   "id": "7b395283",
   "metadata": {},
   "outputs": [
    {
     "name": "stdout",
     "output_type": "stream",
     "text": [
      "['approxdate', 'resolution', 'alternative', 'alternative_txt', 'attacktype2', 'attacktype2_txt', 'attacktype3', 'attacktype3_txt', 'targtype2', 'targtype2_txt', 'targsubtype2', 'targsubtype2_txt', 'corp2', 'target2', 'natlty2', 'natlty2_txt', 'targtype3', 'targtype3_txt', 'targsubtype3', 'targsubtype3_txt', 'corp3', 'target3', 'natlty3', 'natlty3_txt', 'gsubname', 'gname2', 'gsubname2', 'gname3', 'gsubname3', 'motive', 'guncertain2', 'guncertain3', 'claimmode', 'claimmode_txt', 'claim2', 'claimmode2', 'claimmode2_txt', 'claim3', 'claimmode3', 'claimmode3_txt', 'compclaim', 'weaptype2', 'weaptype2_txt', 'weapsubtype2', 'weapsubtype2_txt', 'weaptype3', 'weaptype3_txt', 'weapsubtype3', 'weapsubtype3_txt', 'weaptype4', 'weaptype4_txt', 'weapsubtype4', 'weapsubtype4_txt', 'propvalue', 'nhostkid', 'nhostkidus', 'nhours', 'ndays', 'divert', 'kidhijcountry', 'ransomamt', 'ransomamtus', 'ransompaid', 'ransompaidus', 'ransomnote', 'hostkidoutcome', 'hostkidoutcome_txt', 'nreleased', 'addnotes', 'scite3', 'related']\n"
     ]
    }
   ],
   "source": [
    "null_columns = [ col for col in data.columns if data[col].isnull().sum() / data.shape[0] > 0.7 ]\n",
    "print(null_columns)"
   ]
  },
  {
   "cell_type": "code",
   "execution_count": 7,
   "id": "5dec1d2f",
   "metadata": {},
   "outputs": [
    {
     "data": {
      "text/plain": [
       "(210454, 64)"
      ]
     },
     "execution_count": 7,
     "metadata": {},
     "output_type": "execute_result"
    }
   ],
   "source": [
    "data.drop(columns=null_columns, axis=1, inplace=True)\n",
    "data.shape"
   ]
  },
  {
   "cell_type": "code",
   "execution_count": 8,
   "id": "04f39287",
   "metadata": {},
   "outputs": [],
   "source": [
    "data.to_csv('data_0.7nulloff.csv', index=False, encoding='utf_8_sig')"
   ]
  },
  {
   "cell_type": "code",
   "execution_count": 9,
   "id": "81ad8bce",
   "metadata": {
    "scrolled": true
   },
   "outputs": [
    {
     "name": "stdout",
     "output_type": "stream",
     "text": [
      "data_0.7nulloff:  (210454, 64)\n",
      "             eventid  iyear  imonth  iday  extended  country  \\\n",
      "0       197000000001   1970       7     2         0       58   \n",
      "1       197000000002   1970       0     0         0      130   \n",
      "2       197001000001   1970       1     0         0      160   \n",
      "3       197001000002   1970       1     0         0       78   \n",
      "4       197001000003   1970       1     0         0      101   \n",
      "...              ...    ...     ...   ...       ...      ...   \n",
      "210449  199312280002   1993      12    28         0      159   \n",
      "210450  199312300001   1993      12    30         0      603   \n",
      "210451  199312300002   1993      12    30         0      603   \n",
      "210452  199312300003   1993      12    30         0      603   \n",
      "210453  199312300004   1993      12    30         0      183   \n",
      "\n",
      "               country_txt  region                   region_txt  \\\n",
      "0       Dominican Republic       2  Central America & Caribbean   \n",
      "1                   Mexico       1                North America   \n",
      "2              Philippines       5               Southeast Asia   \n",
      "3                   Greece       8               Western Europe   \n",
      "4                    Japan       4                    East Asia   \n",
      "...                    ...     ...                          ...   \n",
      "210449                Peru       3                South America   \n",
      "210450      United Kingdom       8               Western Europe   \n",
      "210451      United Kingdom       8               Western Europe   \n",
      "210452      United Kingdom       8               Western Europe   \n",
      "210453        South Africa      11           Sub-Saharan Africa   \n",
      "\n",
      "                      provstate  ...  \\\n",
      "0                      National  ...   \n",
      "1                       Federal  ...   \n",
      "2                        Tarlac  ...   \n",
      "3                        Attica  ...   \n",
      "4                       Fukouka  ...   \n",
      "...                         ...  ...   \n",
      "210449          Lima (Province)  ...   \n",
      "210450         Northern Ireland  ...   \n",
      "210451         Northern Ireland  ...   \n",
      "210452         Northern Ireland  ...   \n",
      "210453  Western Cape (Province)  ...   \n",
      "\n",
      "                                              propcomment  ishostkid  ransom  \\\n",
      "0                                                     NaN        0.0     0.0   \n",
      "1                                                     NaN        1.0     1.0   \n",
      "2                                                     NaN        0.0     0.0   \n",
      "3                                                     NaN        0.0     0.0   \n",
      "4                                                     NaN        0.0     0.0   \n",
      "...                                                   ...        ...     ...   \n",
      "210449  The building and nearby businesses and vehicle...        0.0     NaN   \n",
      "210450                            The vehicle was damaged        0.0     NaN   \n",
      "210451            The road was damaged from the explosion        0.0     NaN   \n",
      "210452                                                NaN        0.0     NaN   \n",
      "210453           The tavern was damaged from this attack.        0.0     NaN   \n",
      "\n",
      "                                                   scite1  \\\n",
      "0                                                     NaN   \n",
      "1                                                     NaN   \n",
      "2                                                     NaN   \n",
      "3                                                     NaN   \n",
      "4                                                     NaN   \n",
      "...                                                   ...   \n",
      "210449  “Police Station, Funeral Home are Bombed are B...   \n",
      "210450  Deric Henderson, “Troops Escape Injury in Land...   \n",
      "210451  Deric Henderson, “Troops Escape Injury in Land...   \n",
      "210452  “Police Think IRA To Blame for Wave of Belfast...   \n",
      "210453  “De Klerk condemns \"barbaric\" attack on tavern...   \n",
      "\n",
      "                                                   scite2 dbsource INT_LOG  \\\n",
      "0                                                     NaN     PGIS       0   \n",
      "1                                                     NaN     PGIS       0   \n",
      "2                                                     NaN     PGIS      -9   \n",
      "3                                                     NaN     PGIS      -9   \n",
      "4                                                     NaN     PGIS      -9   \n",
      "...                                                   ...      ...     ...   \n",
      "210449  “Guerillas Hit Hard at Capital of Peru,” The R...    CETIS      -9   \n",
      "210450                                                NaN    CETIS       0   \n",
      "210451                                                NaN    CETIS       0   \n",
      "210452                                                NaN    CETIS       0   \n",
      "210453                                                NaN    CETIS      -9   \n",
      "\n",
      "        INT_IDEO  INT_MISC  INT_ANY  \n",
      "0              0         0        0  \n",
      "1              1         1        1  \n",
      "2             -9         1        1  \n",
      "3             -9         1        1  \n",
      "4             -9         1        1  \n",
      "...          ...       ...      ...  \n",
      "210449        -9         0       -9  \n",
      "210450         0         1        1  \n",
      "210451         0         1        1  \n",
      "210452         0         1        1  \n",
      "210453        -9         0       -9  \n",
      "\n",
      "[210454 rows x 64 columns]\n"
     ]
    }
   ],
   "source": [
    "data = pd.read_csv(\"data_0.7nulloff.csv\")\n",
    "print(\"data_0.7nulloff: \", data.shape)\n",
    "print(data)"
   ]
  },
  {
   "cell_type": "code",
   "execution_count": 10,
   "id": "cef79f91",
   "metadata": {},
   "outputs": [],
   "source": [
    "drop_col = [\"eventid\", \"country\", \"region\", \"attacktype1\", \"targtype1\", \"targsubtype1\", \n",
    "            \"natlty1\", \"scite1\", \"scite2\", \"dbsource\", \"weaptype1\", \"weapsubtype1\"]"
   ]
  },
  {
   "cell_type": "code",
   "execution_count": 11,
   "id": "fe6f9334",
   "metadata": {},
   "outputs": [
    {
     "data": {
      "text/plain": [
       "(210454, 52)"
      ]
     },
     "execution_count": 11,
     "metadata": {},
     "output_type": "execute_result"
    }
   ],
   "source": [
    "data.drop(columns=drop_col, axis=1, inplace=True)\n",
    "data.shape"
   ]
  },
  {
   "cell_type": "code",
   "execution_count": 12,
   "id": "fff7d8e3",
   "metadata": {
    "scrolled": true
   },
   "outputs": [
    {
     "data": {
      "application/json": {
       "ascii": false,
       "bar_format": null,
       "colour": null,
       "elapsed": 0.014983892440795898,
       "initial": 0,
       "n": 0,
       "ncols": null,
       "nrows": null,
       "postfix": null,
       "prefix": "",
       "rate": null,
       "total": 210454,
       "unit": "it",
       "unit_divisor": 1000,
       "unit_scale": false
      },
      "application/vnd.jupyter.widget-view+json": {
       "model_id": "9a0615d3dccb4d509cfa2f155101d733",
       "version_major": 2,
       "version_minor": 0
      },
      "text/plain": [
       "  0%|          | 0/210454 [00:00<?, ?it/s]"
      ]
     },
     "metadata": {},
     "output_type": "display_data"
    },
    {
     "name": "stdout",
     "output_type": "stream",
     "text": [
      "        iyear  imonth  iday  extended         country_txt  \\\n",
      "0        1970       7     2         0  Dominican Republic   \n",
      "1        1970       0     0         0              Mexico   \n",
      "2        1970       1     0         0         Philippines   \n",
      "3        1970       1     0         0              Greece   \n",
      "4        1970       1     0         0               Japan   \n",
      "...       ...     ...   ...       ...                 ...   \n",
      "178437   1993      12    28         0                Peru   \n",
      "178438   1993      12    30         0      United Kingdom   \n",
      "178439   1993      12    30         0      United Kingdom   \n",
      "178440   1993      12    30         0      United Kingdom   \n",
      "178441   1993      12    30         0        South Africa   \n",
      "\n",
      "                         region_txt                provstate           city  \\\n",
      "0       Central America & Caribbean                 National  Santo Domingo   \n",
      "1                     North America                  Federal    Mexico city   \n",
      "2                    Southeast Asia                   Tarlac        Unknown   \n",
      "3                    Western Europe                   Attica         Athens   \n",
      "4                         East Asia                  Fukouka        Fukouka   \n",
      "...                             ...                      ...            ...   \n",
      "178437                South America          Lima (Province)           Lima   \n",
      "178438               Western Europe         Northern Ireland   West Belfast   \n",
      "178439               Western Europe         Northern Ireland   West Belfast   \n",
      "178440               Western Europe         Northern Ireland   West Belfast   \n",
      "178441           Sub-Saharan Africa  Western Cape (Province)      Cape Town   \n",
      "\n",
      "         latitude   longitude  ...  property  propextent  \\\n",
      "0       18.456792  -69.951164  ...         0         NaN   \n",
      "1       19.371887  -99.086624  ...         0         NaN   \n",
      "2       15.478598  120.599741  ...         0         NaN   \n",
      "3       37.997490   23.762728  ...         1         NaN   \n",
      "4       33.580412  130.396361  ...         1         NaN   \n",
      "...           ...         ...  ...       ...         ...   \n",
      "178437        NaN         NaN  ...         1         3.0   \n",
      "178438        NaN         NaN  ...         1         3.0   \n",
      "178439        NaN         NaN  ...         1         3.0   \n",
      "178440        NaN         NaN  ...         0         NaN   \n",
      "178441        NaN         NaN  ...         1         3.0   \n",
      "\n",
      "                     propextent_txt  \\\n",
      "0                               NaN   \n",
      "1                               NaN   \n",
      "2                               NaN   \n",
      "3                               NaN   \n",
      "4                               NaN   \n",
      "...                             ...   \n",
      "178437  Minor (likely < $1 million)   \n",
      "178438  Minor (likely < $1 million)   \n",
      "178439  Minor (likely < $1 million)   \n",
      "178440                          NaN   \n",
      "178441  Minor (likely < $1 million)   \n",
      "\n",
      "                                              propcomment  ishostkid  ransom  \\\n",
      "0                                                     NaN        0.0     0.0   \n",
      "1                                                     NaN        1.0     1.0   \n",
      "2                                                     NaN        0.0     0.0   \n",
      "3                                                     NaN        0.0     0.0   \n",
      "4                                                     NaN        0.0     0.0   \n",
      "...                                                   ...        ...     ...   \n",
      "178437  The building and nearby businesses and vehicle...        0.0     NaN   \n",
      "178438                            The vehicle was damaged        0.0     NaN   \n",
      "178439            The road was damaged from the explosion        0.0     NaN   \n",
      "178440                                                NaN        0.0     NaN   \n",
      "178441           The tavern was damaged from this attack.        0.0     NaN   \n",
      "\n",
      "        INT_LOG  INT_IDEO  INT_MISC  INT_ANY  \n",
      "0             0         0         0        0  \n",
      "1             0         1         1        1  \n",
      "2            -9        -9         1        1  \n",
      "3            -9        -9         1        1  \n",
      "4            -9        -9         1        1  \n",
      "...         ...       ...       ...      ...  \n",
      "178437       -9        -9         0       -9  \n",
      "178438        0         0         1        1  \n",
      "178439        0         0         1        1  \n",
      "178440        0         0         1        1  \n",
      "178441       -9        -9         0       -9  \n",
      "\n",
      "[178442 rows x 52 columns]\n"
     ]
    }
   ],
   "source": [
    "d_row = []\n",
    "for row in tqdm_notebook(range(data.shape[0])):\n",
    "    if (data.crit1[row] == 0) | (data.crit2[row] == 0) | (data.crit3[row] == 0):\n",
    "        d_row.append(row)\n",
    "data.drop(labels=d_row, axis=0, inplace=True)\n",
    "data.reset_index(inplace=True, drop=True)\n",
    "print(data)"
   ]
  },
  {
   "cell_type": "code",
   "execution_count": 13,
   "id": "07c47515",
   "metadata": {},
   "outputs": [],
   "source": [
    "data.drop(columns=[\"crit1\", \"crit2\", \"crit3\"], axis=1, inplace=True)\n",
    "data.shape\n",
    "data.to_csv('data_nocrit.csv', index=False, encoding='utf_8_sig')"
   ]
  },
  {
   "cell_type": "code",
   "execution_count": 2,
   "id": "86046210",
   "metadata": {
    "scrolled": true
   },
   "outputs": [
    {
     "name": "stdout",
     "output_type": "stream",
     "text": [
      "data_nocrit.csv:  (178442, 49)\n",
      "        iyear  imonth  iday  extended         country_txt  \\\n",
      "0        1970       7     2         0  Dominican Republic   \n",
      "1        1970       0     0         0              Mexico   \n",
      "2        1970       1     0         0         Philippines   \n",
      "3        1970       1     0         0              Greece   \n",
      "4        1970       1     0         0               Japan   \n",
      "...       ...     ...   ...       ...                 ...   \n",
      "178437   1993      12    28         0                Peru   \n",
      "178438   1993      12    30         0      United Kingdom   \n",
      "178439   1993      12    30         0      United Kingdom   \n",
      "178440   1993      12    30         0      United Kingdom   \n",
      "178441   1993      12    30         0        South Africa   \n",
      "\n",
      "                         region_txt                provstate           city  \\\n",
      "0       Central America & Caribbean                 National  Santo Domingo   \n",
      "1                     North America                  Federal    Mexico city   \n",
      "2                    Southeast Asia                   Tarlac        Unknown   \n",
      "3                    Western Europe                   Attica         Athens   \n",
      "4                         East Asia                  Fukouka        Fukouka   \n",
      "...                             ...                      ...            ...   \n",
      "178437                South America          Lima (Province)           Lima   \n",
      "178438               Western Europe         Northern Ireland   West Belfast   \n",
      "178439               Western Europe         Northern Ireland   West Belfast   \n",
      "178440               Western Europe         Northern Ireland   West Belfast   \n",
      "178441           Sub-Saharan Africa  Western Cape (Province)      Cape Town   \n",
      "\n",
      "         latitude   longitude  ...  property  propextent  \\\n",
      "0       18.456792  -69.951164  ...         0         NaN   \n",
      "1       19.371887  -99.086624  ...         0         NaN   \n",
      "2       15.478598  120.599741  ...         0         NaN   \n",
      "3       37.997490   23.762728  ...         1         NaN   \n",
      "4       33.580412  130.396361  ...         1         NaN   \n",
      "...           ...         ...  ...       ...         ...   \n",
      "178437        NaN         NaN  ...         1         3.0   \n",
      "178438        NaN         NaN  ...         1         3.0   \n",
      "178439        NaN         NaN  ...         1         3.0   \n",
      "178440        NaN         NaN  ...         0         NaN   \n",
      "178441        NaN         NaN  ...         1         3.0   \n",
      "\n",
      "                     propextent_txt  \\\n",
      "0                               NaN   \n",
      "1                               NaN   \n",
      "2                               NaN   \n",
      "3                               NaN   \n",
      "4                               NaN   \n",
      "...                             ...   \n",
      "178437  Minor (likely < $1 million)   \n",
      "178438  Minor (likely < $1 million)   \n",
      "178439  Minor (likely < $1 million)   \n",
      "178440                          NaN   \n",
      "178441  Minor (likely < $1 million)   \n",
      "\n",
      "                                              propcomment  ishostkid  ransom  \\\n",
      "0                                                     NaN        0.0     0.0   \n",
      "1                                                     NaN        1.0     1.0   \n",
      "2                                                     NaN        0.0     0.0   \n",
      "3                                                     NaN        0.0     0.0   \n",
      "4                                                     NaN        0.0     0.0   \n",
      "...                                                   ...        ...     ...   \n",
      "178437  The building and nearby businesses and vehicle...        0.0     NaN   \n",
      "178438                            The vehicle was damaged        0.0     NaN   \n",
      "178439            The road was damaged from the explosion        0.0     NaN   \n",
      "178440                                                NaN        0.0     NaN   \n",
      "178441           The tavern was damaged from this attack.        0.0     NaN   \n",
      "\n",
      "        INT_LOG  INT_IDEO INT_MISC INT_ANY  \n",
      "0             0         0        0       0  \n",
      "1             0         1        1       1  \n",
      "2            -9        -9        1       1  \n",
      "3            -9        -9        1       1  \n",
      "4            -9        -9        1       1  \n",
      "...         ...       ...      ...     ...  \n",
      "178437       -9        -9        0      -9  \n",
      "178438        0         0        1       1  \n",
      "178439        0         0        1       1  \n",
      "178440        0         0        1       1  \n",
      "178441       -9        -9        0      -9  \n",
      "\n",
      "[178442 rows x 49 columns]\n"
     ]
    }
   ],
   "source": [
    "data = pd.read_csv(\"data_nocrit.csv\")\n",
    "print(\"data_nocrit.csv: \", data.shape)\n",
    "print(data)"
   ]
  },
  {
   "cell_type": "code",
   "execution_count": 3,
   "id": "49d6d333",
   "metadata": {},
   "outputs": [
    {
     "data": {
      "application/json": {
       "ascii": false,
       "bar_format": null,
       "colour": null,
       "elapsed": 0.025928497314453125,
       "initial": 0,
       "n": 0,
       "ncols": null,
       "nrows": null,
       "postfix": null,
       "prefix": "",
       "rate": null,
       "total": 178442,
       "unit": "it",
       "unit_divisor": 1000,
       "unit_scale": false
      },
      "application/vnd.jupyter.widget-view+json": {
       "model_id": "d837d037ba99438e8d3e81ebbad5cfd7",
       "version_major": 2,
       "version_minor": 0
      },
      "text/plain": [
       "  0%|          | 0/178442 [00:00<?, ?it/s]"
      ]
     },
     "metadata": {},
     "output_type": "display_data"
    },
    {
     "name": "stdout",
     "output_type": "stream",
     "text": [
      "3982 6956 50990 50174\n"
     ]
    }
   ],
   "source": [
    "i = j = k = l = 0\n",
    "for row in tqdm_notebook(range(data.shape[0])):\n",
    "    if (pd.isnull(data.nkill[row]) == True) and (pd.isnull(data.nkillter[row]) == False):\n",
    "        data.nkill[row] = data.nkillter[row]\n",
    "        i = i + 1\n",
    "    if (pd.isnull(data.nwound[row]) == True) and (pd.isnull(data.nwoundte[row]) == False):\n",
    "        data.nwound[row] = data.nwoundte[row]\n",
    "        j = j + 1\n",
    "    if (pd.isnull(data.nkill[row]) == False) and (pd.isnull(data.nkillter[row]) == True):\n",
    "        data.nkillter[row] = 0\n",
    "        k= k + 1\n",
    "    if (pd.isnull(data.nwound[row]) == False) and (pd.isnull(data.nwoundte[row]) == True):\n",
    "        data.nwoundte[row] = 0\n",
    "        l = l + 1\n",
    "data.shape\n",
    "print(i, j , k, l)"
   ]
  },
  {
   "cell_type": "code",
   "execution_count": 4,
   "id": "0eb5c7ff",
   "metadata": {
    "scrolled": true
   },
   "outputs": [
    {
     "data": {
      "application/json": {
       "ascii": false,
       "bar_format": null,
       "colour": null,
       "elapsed": 0.02192854881286621,
       "initial": 0,
       "n": 0,
       "ncols": null,
       "nrows": null,
       "postfix": null,
       "prefix": "",
       "rate": null,
       "total": 178442,
       "unit": "it",
       "unit_divisor": 1000,
       "unit_scale": false
      },
      "application/vnd.jupyter.widget-view+json": {
       "model_id": "8c148b0db74f4ae399e892c0271964fa",
       "version_major": 2,
       "version_minor": 0
      },
      "text/plain": [
       "  0%|          | 0/178442 [00:00<?, ?it/s]"
      ]
     },
     "metadata": {},
     "output_type": "display_data"
    },
    {
     "name": "stdout",
     "output_type": "stream",
     "text": [
      "        iyear  imonth  iday  extended         country_txt  \\\n",
      "0        1970       7     2         0  Dominican Republic   \n",
      "1        1970       0     0         0              Mexico   \n",
      "2        1970       1     0         0         Philippines   \n",
      "3        1970       1     1         0       United States   \n",
      "4        1970       1     2         0             Uruguay   \n",
      "...       ...     ...   ...       ...                 ...   \n",
      "169846   1993      12    28         0                Peru   \n",
      "169847   1993      12    30         0      United Kingdom   \n",
      "169848   1993      12    30         0      United Kingdom   \n",
      "169849   1993      12    30         0      United Kingdom   \n",
      "169850   1993      12    30         0        South Africa   \n",
      "\n",
      "                         region_txt                provstate           city  \\\n",
      "0       Central America & Caribbean                 National  Santo Domingo   \n",
      "1                     North America                  Federal    Mexico city   \n",
      "2                    Southeast Asia                   Tarlac        Unknown   \n",
      "3                     North America                 Illinois          Cairo   \n",
      "4                     South America               Montevideo     Montevideo   \n",
      "...                             ...                      ...            ...   \n",
      "169846                South America          Lima (Province)           Lima   \n",
      "169847               Western Europe         Northern Ireland   West Belfast   \n",
      "169848               Western Europe         Northern Ireland   West Belfast   \n",
      "169849               Western Europe         Northern Ireland   West Belfast   \n",
      "169850           Sub-Saharan Africa  Western Cape (Province)      Cape Town   \n",
      "\n",
      "         latitude   longitude  ...  property  propextent  \\\n",
      "0       18.456792  -69.951164  ...         0         NaN   \n",
      "1       19.371887  -99.086624  ...         0         NaN   \n",
      "2       15.478598  120.599741  ...         0         NaN   \n",
      "3       37.005105  -89.176269  ...         1         3.0   \n",
      "4      -34.891151  -56.187214  ...         0         NaN   \n",
      "...           ...         ...  ...       ...         ...   \n",
      "169846        NaN         NaN  ...         1         3.0   \n",
      "169847        NaN         NaN  ...         1         3.0   \n",
      "169848        NaN         NaN  ...         1         3.0   \n",
      "169849        NaN         NaN  ...         0         NaN   \n",
      "169850        NaN         NaN  ...         1         3.0   \n",
      "\n",
      "                     propextent_txt  \\\n",
      "0                               NaN   \n",
      "1                               NaN   \n",
      "2                               NaN   \n",
      "3       Minor (likely < $1 million)   \n",
      "4                               NaN   \n",
      "...                             ...   \n",
      "169846  Minor (likely < $1 million)   \n",
      "169847  Minor (likely < $1 million)   \n",
      "169848  Minor (likely < $1 million)   \n",
      "169849                          NaN   \n",
      "169850  Minor (likely < $1 million)   \n",
      "\n",
      "                                              propcomment  ishostkid  ransom  \\\n",
      "0                                                     NaN        0.0     0.0   \n",
      "1                                                     NaN        1.0     1.0   \n",
      "2                                                     NaN        0.0     0.0   \n",
      "3                                                     NaN        0.0     0.0   \n",
      "4                                                     NaN        0.0     0.0   \n",
      "...                                                   ...        ...     ...   \n",
      "169846  The building and nearby businesses and vehicle...        0.0     NaN   \n",
      "169847                            The vehicle was damaged        0.0     NaN   \n",
      "169848            The road was damaged from the explosion        0.0     NaN   \n",
      "169849                                                NaN        0.0     NaN   \n",
      "169850           The tavern was damaged from this attack.        0.0     NaN   \n",
      "\n",
      "        INT_LOG  INT_IDEO INT_MISC INT_ANY  \n",
      "0             0         0        0       0  \n",
      "1             0         1        1       1  \n",
      "2            -9        -9        1       1  \n",
      "3            -9        -9        0      -9  \n",
      "4             0         0        0       0  \n",
      "...         ...       ...      ...     ...  \n",
      "169846       -9        -9        0      -9  \n",
      "169847        0         0        1       1  \n",
      "169848        0         0        1       1  \n",
      "169849        0         0        1       1  \n",
      "169850       -9        -9        0      -9  \n",
      "\n",
      "[169851 rows x 49 columns]\n"
     ]
    }
   ],
   "source": [
    "d_row = []\n",
    "for row in tqdm_notebook(range(data.shape[0])):\n",
    "    if (pd.isnull(data.nkill[row]) == True) | (pd.isnull(data.nkillter[row]) == True) | (pd.isnull(data.nwound[row]) == True) | (pd.isnull(data.nwoundte[row]) == True) | (pd.isnull(data.property[row]) == True):\n",
    "        d_row.append(row)\n",
    "data.drop(labels=d_row, axis=0, inplace=True)\n",
    "data.reset_index(inplace=True, drop=True)\n",
    "print(data)"
   ]
  },
  {
   "cell_type": "code",
   "execution_count": 5,
   "id": "5f3b5a39",
   "metadata": {
    "scrolled": true
   },
   "outputs": [
    {
     "data": {
      "application/json": {
       "ascii": false,
       "bar_format": null,
       "colour": null,
       "elapsed": 0.0279233455657959,
       "initial": 0,
       "n": 0,
       "ncols": null,
       "nrows": null,
       "postfix": null,
       "prefix": "",
       "rate": null,
       "total": 169851,
       "unit": "it",
       "unit_divisor": 1000,
       "unit_scale": false
      },
      "application/vnd.jupyter.widget-view+json": {
       "model_id": "9cc610a14b3a4d18b982dbee5c726efd",
       "version_major": 2,
       "version_minor": 0
      },
      "text/plain": [
       "  0%|          | 0/169851 [00:00<?, ?it/s]"
      ]
     },
     "metadata": {},
     "output_type": "display_data"
    },
    {
     "ename": "KeyboardInterrupt",
     "evalue": "",
     "output_type": "error",
     "traceback": [
      "\u001b[1;31m---------------------------------------------------------------------------\u001b[0m",
      "\u001b[1;31mKeyboardInterrupt\u001b[0m                         Traceback (most recent call last)",
      "\u001b[1;32m~\\AppData\\Local\\Temp\\ipykernel_18024\\4250199659.py\u001b[0m in \u001b[0;36m<module>\u001b[1;34m\u001b[0m\n\u001b[0;32m      2\u001b[0m \u001b[1;32mfor\u001b[0m \u001b[0mrow\u001b[0m \u001b[1;32min\u001b[0m \u001b[0mtqdm_notebook\u001b[0m\u001b[1;33m(\u001b[0m\u001b[0mrange\u001b[0m\u001b[1;33m(\u001b[0m\u001b[0mdata\u001b[0m\u001b[1;33m.\u001b[0m\u001b[0mshape\u001b[0m\u001b[1;33m[\u001b[0m\u001b[1;36m0\u001b[0m\u001b[1;33m]\u001b[0m\u001b[1;33m)\u001b[0m\u001b[1;33m)\u001b[0m\u001b[1;33m:\u001b[0m\u001b[1;33m\u001b[0m\u001b[1;33m\u001b[0m\u001b[0m\n\u001b[0;32m      3\u001b[0m     \u001b[0mdata\u001b[0m\u001b[1;33m.\u001b[0m\u001b[0mnkill\u001b[0m\u001b[1;33m[\u001b[0m\u001b[0mrow\u001b[0m\u001b[1;33m]\u001b[0m \u001b[1;33m=\u001b[0m \u001b[0mdata\u001b[0m\u001b[1;33m.\u001b[0m\u001b[0mnkill\u001b[0m\u001b[1;33m[\u001b[0m\u001b[0mrow\u001b[0m\u001b[1;33m]\u001b[0m \u001b[1;33m-\u001b[0m \u001b[0mdata\u001b[0m\u001b[1;33m.\u001b[0m\u001b[0mnkillter\u001b[0m\u001b[1;33m[\u001b[0m\u001b[0mrow\u001b[0m\u001b[1;33m]\u001b[0m\u001b[1;33m\u001b[0m\u001b[1;33m\u001b[0m\u001b[0m\n\u001b[1;32m----> 4\u001b[1;33m     \u001b[0mdata\u001b[0m\u001b[1;33m.\u001b[0m\u001b[0mnwound\u001b[0m\u001b[1;33m[\u001b[0m\u001b[0mrow\u001b[0m\u001b[1;33m]\u001b[0m \u001b[1;33m=\u001b[0m \u001b[0mdata\u001b[0m\u001b[1;33m.\u001b[0m\u001b[0mnwound\u001b[0m\u001b[1;33m[\u001b[0m\u001b[0mrow\u001b[0m\u001b[1;33m]\u001b[0m \u001b[1;33m-\u001b[0m \u001b[0mdata\u001b[0m\u001b[1;33m.\u001b[0m\u001b[0mnwoundte\u001b[0m\u001b[1;33m[\u001b[0m\u001b[0mrow\u001b[0m\u001b[1;33m]\u001b[0m\u001b[1;33m\u001b[0m\u001b[1;33m\u001b[0m\u001b[0m\n\u001b[0m\u001b[0;32m      5\u001b[0m \u001b[1;33m\u001b[0m\u001b[0m\n\u001b[0;32m      6\u001b[0m     \u001b[1;32mif\u001b[0m \u001b[1;33m(\u001b[0m\u001b[0mdata\u001b[0m\u001b[1;33m.\u001b[0m\u001b[0mnkill\u001b[0m\u001b[1;33m[\u001b[0m\u001b[0mrow\u001b[0m\u001b[1;33m]\u001b[0m \u001b[1;33m<\u001b[0m \u001b[1;36m0\u001b[0m\u001b[1;33m)\u001b[0m \u001b[1;33m|\u001b[0m \u001b[1;33m(\u001b[0m\u001b[0mdata\u001b[0m\u001b[1;33m.\u001b[0m\u001b[0mnwound\u001b[0m\u001b[1;33m[\u001b[0m\u001b[0mrow\u001b[0m\u001b[1;33m]\u001b[0m \u001b[1;33m<\u001b[0m \u001b[1;36m0\u001b[0m\u001b[1;33m)\u001b[0m\u001b[1;33m:\u001b[0m\u001b[1;33m\u001b[0m\u001b[1;33m\u001b[0m\u001b[0m\n",
      "\u001b[1;32mD:\\Anaconda3\\envs\\python\\lib\\site-packages\\pandas\\core\\series.py\u001b[0m in \u001b[0;36m__setitem__\u001b[1;34m(self, key, value)\u001b[0m\n\u001b[0;32m   1089\u001b[0m \u001b[1;33m\u001b[0m\u001b[0m\n\u001b[0;32m   1090\u001b[0m         \u001b[1;32mif\u001b[0m \u001b[0mcacher_needs_updating\u001b[0m\u001b[1;33m:\u001b[0m\u001b[1;33m\u001b[0m\u001b[1;33m\u001b[0m\u001b[0m\n\u001b[1;32m-> 1091\u001b[1;33m             \u001b[0mself\u001b[0m\u001b[1;33m.\u001b[0m\u001b[0m_maybe_update_cacher\u001b[0m\u001b[1;33m(\u001b[0m\u001b[1;33m)\u001b[0m\u001b[1;33m\u001b[0m\u001b[1;33m\u001b[0m\u001b[0m\n\u001b[0m\u001b[0;32m   1092\u001b[0m \u001b[1;33m\u001b[0m\u001b[0m\n\u001b[0;32m   1093\u001b[0m     \u001b[1;32mdef\u001b[0m \u001b[0m_set_with_engine\u001b[0m\u001b[1;33m(\u001b[0m\u001b[0mself\u001b[0m\u001b[1;33m,\u001b[0m \u001b[0mkey\u001b[0m\u001b[1;33m,\u001b[0m \u001b[0mvalue\u001b[0m\u001b[1;33m)\u001b[0m \u001b[1;33m->\u001b[0m \u001b[1;32mNone\u001b[0m\u001b[1;33m:\u001b[0m\u001b[1;33m\u001b[0m\u001b[1;33m\u001b[0m\u001b[0m\n",
      "\u001b[1;32mD:\\Anaconda3\\envs\\python\\lib\\site-packages\\pandas\\core\\series.py\u001b[0m in \u001b[0;36m_maybe_update_cacher\u001b[1;34m(self, clear, verify_is_copy)\u001b[0m\n\u001b[0;32m   1233\u001b[0m                 \u001b[1;31m# to ensure column still in dataframe\u001b[0m\u001b[1;33m\u001b[0m\u001b[1;33m\u001b[0m\u001b[1;33m\u001b[0m\u001b[0m\n\u001b[0;32m   1234\u001b[0m                 \u001b[1;31m# otherwise, either self or ref has swapped in new arrays\u001b[0m\u001b[1;33m\u001b[0m\u001b[1;33m\u001b[0m\u001b[1;33m\u001b[0m\u001b[0m\n\u001b[1;32m-> 1235\u001b[1;33m                 \u001b[0mref\u001b[0m\u001b[1;33m.\u001b[0m\u001b[0m_maybe_cache_changed\u001b[0m\u001b[1;33m(\u001b[0m\u001b[0mcacher\u001b[0m\u001b[1;33m[\u001b[0m\u001b[1;36m0\u001b[0m\u001b[1;33m]\u001b[0m\u001b[1;33m,\u001b[0m \u001b[0mself\u001b[0m\u001b[1;33m)\u001b[0m\u001b[1;33m\u001b[0m\u001b[1;33m\u001b[0m\u001b[0m\n\u001b[0m\u001b[0;32m   1236\u001b[0m             \u001b[1;32melse\u001b[0m\u001b[1;33m:\u001b[0m\u001b[1;33m\u001b[0m\u001b[1;33m\u001b[0m\u001b[0m\n\u001b[0;32m   1237\u001b[0m                 \u001b[1;31m# GH#33675 we have swapped in a new array, so parent\u001b[0m\u001b[1;33m\u001b[0m\u001b[1;33m\u001b[0m\u001b[1;33m\u001b[0m\u001b[0m\n",
      "\u001b[1;32mD:\\Anaconda3\\envs\\python\\lib\\site-packages\\pandas\\core\\frame.py\u001b[0m in \u001b[0;36m_maybe_cache_changed\u001b[1;34m(self, item, value)\u001b[0m\n\u001b[0;32m   3903\u001b[0m         \u001b[0mloc\u001b[0m \u001b[1;33m=\u001b[0m \u001b[0mself\u001b[0m\u001b[1;33m.\u001b[0m\u001b[0m_info_axis\u001b[0m\u001b[1;33m.\u001b[0m\u001b[0mget_loc\u001b[0m\u001b[1;33m(\u001b[0m\u001b[0mitem\u001b[0m\u001b[1;33m)\u001b[0m\u001b[1;33m\u001b[0m\u001b[1;33m\u001b[0m\u001b[0m\n\u001b[0;32m   3904\u001b[0m         \u001b[0marraylike\u001b[0m \u001b[1;33m=\u001b[0m \u001b[0mvalue\u001b[0m\u001b[1;33m.\u001b[0m\u001b[0m_values\u001b[0m\u001b[1;33m\u001b[0m\u001b[1;33m\u001b[0m\u001b[0m\n\u001b[1;32m-> 3905\u001b[1;33m         \u001b[0mself\u001b[0m\u001b[1;33m.\u001b[0m\u001b[0m_mgr\u001b[0m\u001b[1;33m.\u001b[0m\u001b[0miset\u001b[0m\u001b[1;33m(\u001b[0m\u001b[0mloc\u001b[0m\u001b[1;33m,\u001b[0m \u001b[0marraylike\u001b[0m\u001b[1;33m)\u001b[0m\u001b[1;33m\u001b[0m\u001b[1;33m\u001b[0m\u001b[0m\n\u001b[0m\u001b[0;32m   3906\u001b[0m \u001b[1;33m\u001b[0m\u001b[0m\n\u001b[0;32m   3907\u001b[0m     \u001b[1;31m# ----------------------------------------------------------------------\u001b[0m\u001b[1;33m\u001b[0m\u001b[1;33m\u001b[0m\u001b[1;33m\u001b[0m\u001b[0m\n",
      "\u001b[1;32mD:\\Anaconda3\\envs\\python\\lib\\site-packages\\pandas\\core\\internals\\managers.py\u001b[0m in \u001b[0;36miset\u001b[1;34m(self, loc, value)\u001b[0m\n\u001b[0;32m   1076\u001b[0m             \u001b[0mblk_locs\u001b[0m \u001b[1;33m=\u001b[0m \u001b[0mblklocs\u001b[0m\u001b[1;33m[\u001b[0m\u001b[0mval_locs\u001b[0m\u001b[1;33m.\u001b[0m\u001b[0mindexer\u001b[0m\u001b[1;33m]\u001b[0m\u001b[1;33m\u001b[0m\u001b[1;33m\u001b[0m\u001b[0m\n\u001b[0;32m   1077\u001b[0m             \u001b[1;32mif\u001b[0m \u001b[0mblk\u001b[0m\u001b[1;33m.\u001b[0m\u001b[0mshould_store\u001b[0m\u001b[1;33m(\u001b[0m\u001b[0mvalue\u001b[0m\u001b[1;33m)\u001b[0m\u001b[1;33m:\u001b[0m\u001b[1;33m\u001b[0m\u001b[1;33m\u001b[0m\u001b[0m\n\u001b[1;32m-> 1078\u001b[1;33m                 \u001b[0mblk\u001b[0m\u001b[1;33m.\u001b[0m\u001b[0mset_inplace\u001b[0m\u001b[1;33m(\u001b[0m\u001b[0mblk_locs\u001b[0m\u001b[1;33m,\u001b[0m \u001b[0mvalue_getitem\u001b[0m\u001b[1;33m(\u001b[0m\u001b[0mval_locs\u001b[0m\u001b[1;33m)\u001b[0m\u001b[1;33m)\u001b[0m\u001b[1;33m\u001b[0m\u001b[1;33m\u001b[0m\u001b[0m\n\u001b[0m\u001b[0;32m   1079\u001b[0m             \u001b[1;32melse\u001b[0m\u001b[1;33m:\u001b[0m\u001b[1;33m\u001b[0m\u001b[1;33m\u001b[0m\u001b[0m\n\u001b[0;32m   1080\u001b[0m                 \u001b[0munfit_mgr_locs\u001b[0m\u001b[1;33m.\u001b[0m\u001b[0mappend\u001b[0m\u001b[1;33m(\u001b[0m\u001b[0mblk\u001b[0m\u001b[1;33m.\u001b[0m\u001b[0mmgr_locs\u001b[0m\u001b[1;33m.\u001b[0m\u001b[0mas_array\u001b[0m\u001b[1;33m[\u001b[0m\u001b[0mblk_locs\u001b[0m\u001b[1;33m]\u001b[0m\u001b[1;33m)\u001b[0m\u001b[1;33m\u001b[0m\u001b[1;33m\u001b[0m\u001b[0m\n",
      "\u001b[1;32mD:\\Anaconda3\\envs\\python\\lib\\site-packages\\pandas\\core\\internals\\blocks.py\u001b[0m in \u001b[0;36mset_inplace\u001b[1;34m(self, locs, values)\u001b[0m\n\u001b[0;32m    358\u001b[0m         \u001b[0mcreate\u001b[0m \u001b[0ma\u001b[0m \u001b[0mnew\u001b[0m \u001b[0marray\u001b[0m \u001b[1;32mand\u001b[0m \u001b[0malways\u001b[0m \u001b[0mcreates\u001b[0m \u001b[0ma\u001b[0m \u001b[0mnew\u001b[0m \u001b[0mBlock\u001b[0m\u001b[1;33m.\u001b[0m\u001b[1;33m\u001b[0m\u001b[1;33m\u001b[0m\u001b[0m\n\u001b[0;32m    359\u001b[0m         \"\"\"\n\u001b[1;32m--> 360\u001b[1;33m         \u001b[0mself\u001b[0m\u001b[1;33m.\u001b[0m\u001b[0mvalues\u001b[0m\u001b[1;33m[\u001b[0m\u001b[0mlocs\u001b[0m\u001b[1;33m]\u001b[0m \u001b[1;33m=\u001b[0m \u001b[0mvalues\u001b[0m\u001b[1;33m\u001b[0m\u001b[1;33m\u001b[0m\u001b[0m\n\u001b[0m\u001b[0;32m    361\u001b[0m \u001b[1;33m\u001b[0m\u001b[0m\n\u001b[0;32m    362\u001b[0m     \u001b[1;32mdef\u001b[0m \u001b[0mdelete\u001b[0m\u001b[1;33m(\u001b[0m\u001b[0mself\u001b[0m\u001b[1;33m,\u001b[0m \u001b[0mloc\u001b[0m\u001b[1;33m)\u001b[0m \u001b[1;33m->\u001b[0m \u001b[1;32mNone\u001b[0m\u001b[1;33m:\u001b[0m\u001b[1;33m\u001b[0m\u001b[1;33m\u001b[0m\u001b[0m\n",
      "\u001b[1;31mKeyboardInterrupt\u001b[0m: "
     ]
    }
   ],
   "source": [
    "d_row = []\n",
    "for row in tqdm_notebook(range(data.shape[0])):\n",
    "    data.nkill[row] = data.nkill[row] - data.nkillter[row]\n",
    "    data.nwound[row] = data.nwound[row] - data.nwoundte[row]\n",
    "\n",
    "    if (data.nkill[row] < 0) | (data.nwound[row] < 0):\n",
    "        d_row.append(row)\n",
    "data.drop(labels=d_row, axis=0, inplace=True)\n",
    "data.reset_index(inplace=True, drop=True)\n",
    "    \n",
    "data.shape"
   ]
  },
  {
   "cell_type": "code",
   "execution_count": null,
   "id": "a35f2f11",
   "metadata": {
    "scrolled": true
   },
   "outputs": [],
   "source": [
    "d_row = []\n",
    "for row in tqdm_notebook(range(data.shape[0])):\n",
    "    if (data.property[row] == -9):\n",
    "        d_row.append(row)\n",
    "data.drop(labels=d_row, axis=0, inplace=True)\n",
    "data.reset_index(inplace=True, drop=True)\n",
    "print(data)"
   ]
  },
  {
   "cell_type": "code",
   "execution_count": null,
   "id": "204425d7",
   "metadata": {
    "scrolled": true
   },
   "outputs": [],
   "source": [
    "data.insert(loc=len(data.columns), column=\"risk\", value=None)\n",
    "print(data)"
   ]
  },
  {
   "cell_type": "code",
   "execution_count": 20,
   "id": "a5e14f02",
   "metadata": {
    "scrolled": true
   },
   "outputs": [
    {
     "data": {
      "application/json": {
       "ascii": false,
       "bar_format": null,
       "colour": null,
       "elapsed": 0.02193927764892578,
       "initial": 0,
       "n": 0,
       "ncols": null,
       "nrows": null,
       "postfix": null,
       "prefix": "",
       "rate": null,
       "total": 147675,
       "unit": "it",
       "unit_divisor": 1000,
       "unit_scale": false
      },
      "application/vnd.jupyter.widget-view+json": {
       "model_id": "5dea7566cee8401b91ea8316e8235c26",
       "version_major": 2,
       "version_minor": 0
      },
      "text/plain": [
       "  0%|          | 0/147675 [00:00<?, ?it/s]"
      ]
     },
     "metadata": {},
     "output_type": "display_data"
    },
    {
     "name": "stdout",
     "output_type": "stream",
     "text": [
      "23588 44291 40027 39769 147675\n"
     ]
    }
   ],
   "source": [
    "n = m = l = z = 0\n",
    "for row in tqdm_notebook(range(data.shape[0])):\n",
    "    if (data.nkill[row] == 0) and (data.nwound[row] == 0) and (data.property[row] == 0):\n",
    "        data.risk[row] = 0\n",
    "        n = n + 1\n",
    "    elif (data.nkill[row] == 0) and (data.nwound[row] == 0) and (data.property[row] == 1):\n",
    "        data.risk[row] = 1\n",
    "        m = m + 1\n",
    "    elif (data.nkill[row] == 0) and (data.nwound[row] > 0) and (data.property[row] == 0):\n",
    "        data.risk[row] = 2\n",
    "        l = l + 1\n",
    "    elif (data.nkill[row] > 0) and (data.nwound[row] == 0) and (data.property[row] == 0):\n",
    "        data.risk[row] = 2\n",
    "        l = l + 1\n",
    "    elif (data.nkill[row] > 0) and (data.nwound[row] > 0) and (data.property[row] == 0):\n",
    "        data.risk[row] = 2\n",
    "        l = l + 1\n",
    "    elif (data.nkill[row] > 0) and (data.nwound[row] > 0) and (data.property[row] > 0): \n",
    "        data.risk[row] = 3\n",
    "        z = z + 1\n",
    "    elif (data.nkill[row] == 0) and (data.nwound[row] > 0) and (data.property[row] > 0): \n",
    "        data.risk[row] = 3\n",
    "        z = z + 1\n",
    "    elif (data.nkill[row] > 0) and (data.nwound[row] == 0) and (data.property[row] > 0): \n",
    "        data.risk[row] = 3\n",
    "        z = z + 1\n",
    "print(n, m, l, z, n + m + l + z)"
   ]
  },
  {
   "cell_type": "code",
   "execution_count": 21,
   "id": "172346d8",
   "metadata": {},
   "outputs": [
    {
     "data": {
      "text/plain": [
       "(147675, 44)"
      ]
     },
     "execution_count": 21,
     "metadata": {},
     "output_type": "execute_result"
    }
   ],
   "source": [
    "data.drop(columns=[\"nkill\", \"nkillus\", \"nkillter\", \"nwound\", \"nwoundus\", \"nwoundte\"], axis=1, inplace=True)\n",
    "data.shape"
   ]
  },
  {
   "cell_type": "code",
   "execution_count": 22,
   "id": "ad5e8ccf",
   "metadata": {},
   "outputs": [],
   "source": [
    "data.to_csv('data_risk.csv', index=False, encoding='utf_8_sig')"
   ]
  },
  {
   "cell_type": "code",
   "execution_count": 23,
   "id": "053f877c",
   "metadata": {
    "scrolled": true
   },
   "outputs": [
    {
     "name": "stdout",
     "output_type": "stream",
     "text": [
      "data_risk.csv:  (147675, 44)\n",
      "        iyear  imonth  iday  extended         country_txt  \\\n",
      "0        1970       7     2         0  Dominican Republic   \n",
      "1        1970       0     0         0              Mexico   \n",
      "2        1970       1     0         0         Philippines   \n",
      "3        1970       1     1         0       United States   \n",
      "4        1970       1     2         0             Uruguay   \n",
      "...       ...     ...   ...       ...                 ...   \n",
      "147670   1993      12    28         0                Peru   \n",
      "147671   1993      12    30         0      United Kingdom   \n",
      "147672   1993      12    30         0      United Kingdom   \n",
      "147673   1993      12    30         0      United Kingdom   \n",
      "147674   1993      12    30         0        South Africa   \n",
      "\n",
      "                         region_txt                provstate           city  \\\n",
      "0       Central America & Caribbean                 National  Santo Domingo   \n",
      "1                     North America                  Federal    Mexico city   \n",
      "2                    Southeast Asia                   Tarlac        Unknown   \n",
      "3                     North America                 Illinois          Cairo   \n",
      "4                     South America               Montevideo     Montevideo   \n",
      "...                             ...                      ...            ...   \n",
      "147670                South America          Lima (Province)           Lima   \n",
      "147671               Western Europe         Northern Ireland   West Belfast   \n",
      "147672               Western Europe         Northern Ireland   West Belfast   \n",
      "147673               Western Europe         Northern Ireland   West Belfast   \n",
      "147674           Sub-Saharan Africa  Western Cape (Province)      Cape Town   \n",
      "\n",
      "         latitude   longitude  ...  propextent               propextent_txt  \\\n",
      "0       18.456792  -69.951164  ...         NaN                          NaN   \n",
      "1       19.371887  -99.086624  ...         NaN                          NaN   \n",
      "2       15.478598  120.599741  ...         NaN                          NaN   \n",
      "3       37.005105  -89.176269  ...         3.0  Minor (likely < $1 million)   \n",
      "4      -34.891151  -56.187214  ...         NaN                          NaN   \n",
      "...           ...         ...  ...         ...                          ...   \n",
      "147670        NaN         NaN  ...         3.0  Minor (likely < $1 million)   \n",
      "147671        NaN         NaN  ...         3.0  Minor (likely < $1 million)   \n",
      "147672        NaN         NaN  ...         3.0  Minor (likely < $1 million)   \n",
      "147673        NaN         NaN  ...         NaN                          NaN   \n",
      "147674        NaN         NaN  ...         3.0  Minor (likely < $1 million)   \n",
      "\n",
      "                                              propcomment ishostkid  ransom  \\\n",
      "0                                                     NaN       0.0     0.0   \n",
      "1                                                     NaN       1.0     1.0   \n",
      "2                                                     NaN       0.0     0.0   \n",
      "3                                                     NaN       0.0     0.0   \n",
      "4                                                     NaN       0.0     0.0   \n",
      "...                                                   ...       ...     ...   \n",
      "147670  The building and nearby businesses and vehicle...       0.0     NaN   \n",
      "147671                            The vehicle was damaged       0.0     NaN   \n",
      "147672            The road was damaged from the explosion       0.0     NaN   \n",
      "147673                                                NaN       0.0     NaN   \n",
      "147674           The tavern was damaged from this attack.       0.0     NaN   \n",
      "\n",
      "        INT_LOG  INT_IDEO  INT_MISC INT_ANY risk  \n",
      "0             0         0         0       0    2  \n",
      "1             0         1         1       1    0  \n",
      "2            -9        -9         1       1    2  \n",
      "3            -9        -9         0      -9    1  \n",
      "4             0         0         0       0    0  \n",
      "...         ...       ...       ...     ...  ...  \n",
      "147670       -9        -9         0      -9    3  \n",
      "147671        0         0         1       1    3  \n",
      "147672        0         0         1       1    1  \n",
      "147673        0         0         1       1    2  \n",
      "147674       -9        -9         0      -9    3  \n",
      "\n",
      "[147675 rows x 44 columns]\n"
     ]
    }
   ],
   "source": [
    "data = pd.read_csv(\"data_risk.csv\")\n",
    "print(\"data_risk.csv: \", data.shape)\n",
    "print(data)"
   ]
  },
  {
   "cell_type": "code",
   "execution_count": 24,
   "id": "a03dbf5d",
   "metadata": {},
   "outputs": [
    {
     "data": {
      "text/plain": [
       "(147675, 41)"
      ]
     },
     "execution_count": 24,
     "metadata": {},
     "output_type": "execute_result"
    }
   ],
   "source": [
    "data.drop(columns=[\"property\", \"propextent\", \"propextent_txt\"], axis=1, inplace=True)\n",
    "data.shape"
   ]
  },
  {
   "cell_type": "code",
   "execution_count": 25,
   "id": "67c72ccf",
   "metadata": {},
   "outputs": [
    {
     "data": {
      "text/plain": [
       "(147675, 37)"
      ]
     },
     "execution_count": 25,
     "metadata": {},
     "output_type": "execute_result"
    }
   ],
   "source": [
    "data.drop(columns=[\"INT_LOG\", \"INT_IDEO\", \"INT_MISC\", \"INT_ANY\"], axis=1, inplace=True)\n",
    "data.shape"
   ]
  },
  {
   "cell_type": "code",
   "execution_count": 26,
   "id": "786adf2a",
   "metadata": {},
   "outputs": [
    {
     "data": {
      "text/plain": [
       "(147675, 34)"
      ]
     },
     "execution_count": 26,
     "metadata": {},
     "output_type": "execute_result"
    }
   ],
   "source": [
    "data.drop(columns=[\"weapdetail\", \"corp1\", \"target1\"], axis=1, inplace=True)\n",
    "data.shape"
   ]
  },
  {
   "cell_type": "code",
   "execution_count": 27,
   "id": "8d7900a1",
   "metadata": {},
   "outputs": [
    {
     "data": {
      "application/json": {
       "ascii": false,
       "bar_format": null,
       "colour": null,
       "elapsed": 0.018948078155517578,
       "initial": 0,
       "n": 0,
       "ncols": null,
       "nrows": null,
       "postfix": null,
       "prefix": "",
       "rate": null,
       "total": 147675,
       "unit": "it",
       "unit_divisor": 1000,
       "unit_scale": false
      },
      "application/vnd.jupyter.widget-view+json": {
       "model_id": "a6e6c8e6ab304993817e3777642b7752",
       "version_major": 2,
       "version_minor": 0
      },
      "text/plain": [
       "  0%|          | 0/147675 [00:00<?, ?it/s]"
      ]
     },
     "metadata": {},
     "output_type": "display_data"
    }
   ],
   "source": [
    "d_row = []\n",
    "for row in tqdm_notebook(range(data.shape[0])):\n",
    "    if (pd.isnull(data.summary[row]) == True):\n",
    "        d_row.append(row)\n",
    "data.drop(labels=d_row, axis=0, inplace=True)\n",
    "data.reset_index(inplace=True, drop=True)"
   ]
  },
  {
   "cell_type": "code",
   "execution_count": 28,
   "id": "de614e6a",
   "metadata": {},
   "outputs": [
    {
     "data": {
      "application/json": {
       "ascii": false,
       "bar_format": null,
       "colour": null,
       "elapsed": 0.021938085556030273,
       "initial": 0,
       "n": 0,
       "ncols": null,
       "nrows": null,
       "postfix": null,
       "prefix": "",
       "rate": null,
       "total": 98213,
       "unit": "it",
       "unit_divisor": 1000,
       "unit_scale": false
      },
      "application/vnd.jupyter.widget-view+json": {
       "model_id": "b288e15247f34a8ca7bbf23a594beea6",
       "version_major": 2,
       "version_minor": 0
      },
      "text/plain": [
       "  0%|          | 0/98213 [00:00<?, ?it/s]"
      ]
     },
     "metadata": {},
     "output_type": "display_data"
    }
   ],
   "source": [
    "d_row = []\n",
    "for row in tqdm_notebook(range(data.shape[0])):\n",
    "    if (pd.isnull(data.weapsubtype1_txt[row]) == True):\n",
    "        d_row.append(row)\n",
    "data.drop(labels=d_row, axis=0, inplace=True)\n",
    "data.reset_index(inplace=True, drop=True)"
   ]
  },
  {
   "cell_type": "code",
   "execution_count": 29,
   "id": "36ba870a",
   "metadata": {},
   "outputs": [
    {
     "data": {
      "application/json": {
       "ascii": false,
       "bar_format": null,
       "colour": null,
       "elapsed": 0.018949270248413086,
       "initial": 0,
       "n": 0,
       "ncols": null,
       "nrows": null,
       "postfix": null,
       "prefix": "",
       "rate": null,
       "total": 90280,
       "unit": "it",
       "unit_divisor": 1000,
       "unit_scale": false
      },
      "application/vnd.jupyter.widget-view+json": {
       "model_id": "f557cb0398f5446ebf67a31712776fe1",
       "version_major": 2,
       "version_minor": 0
      },
      "text/plain": [
       "  0%|          | 0/90280 [00:00<?, ?it/s]"
      ]
     },
     "metadata": {},
     "output_type": "display_data"
    }
   ],
   "source": [
    "d_row = []\n",
    "for row in tqdm_notebook(range(data.shape[0])):\n",
    "    if (pd.isnull(data.targsubtype1_txt[row]) == True):\n",
    "        d_row.append(row)\n",
    "data.drop(labels=d_row, axis=0, inplace=True)\n",
    "data.reset_index(inplace=True, drop=True)"
   ]
  },
  {
   "cell_type": "code",
   "execution_count": 30,
   "id": "0f62495c",
   "metadata": {},
   "outputs": [
    {
     "data": {
      "application/json": {
       "ascii": false,
       "bar_format": null,
       "colour": null,
       "elapsed": 0.016955137252807617,
       "initial": 0,
       "n": 0,
       "ncols": null,
       "nrows": null,
       "postfix": null,
       "prefix": "",
       "rate": null,
       "total": 82531,
       "unit": "it",
       "unit_divisor": 1000,
       "unit_scale": false
      },
      "application/vnd.jupyter.widget-view+json": {
       "model_id": "780b0322e2b14805a776d2395a2d9d56",
       "version_major": 2,
       "version_minor": 0
      },
      "text/plain": [
       "  0%|          | 0/82531 [00:00<?, ?it/s]"
      ]
     },
     "metadata": {},
     "output_type": "display_data"
    }
   ],
   "source": [
    "d_row = []\n",
    "for row in tqdm_notebook(range(data.shape[0])):\n",
    "    if (pd.isnull(data.latitude[row]) == True):\n",
    "        d_row.append(row)\n",
    "data.drop(labels=d_row, axis=0, inplace=True)\n",
    "data.reset_index(inplace=True, drop=True)"
   ]
  },
  {
   "cell_type": "code",
   "execution_count": 31,
   "id": "d246d457",
   "metadata": {},
   "outputs": [
    {
     "data": {
      "application/json": {
       "ascii": false,
       "bar_format": null,
       "colour": null,
       "elapsed": 0.01997232437133789,
       "initial": 0,
       "n": 0,
       "ncols": null,
       "nrows": null,
       "postfix": null,
       "prefix": "",
       "rate": null,
       "total": 82077,
       "unit": "it",
       "unit_divisor": 1000,
       "unit_scale": false
      },
      "application/vnd.jupyter.widget-view+json": {
       "model_id": "32eebe2ed1004fd2974ab43fd5e85a74",
       "version_major": 2,
       "version_minor": 0
      },
      "text/plain": [
       "  0%|          | 0/82077 [00:00<?, ?it/s]"
      ]
     },
     "metadata": {},
     "output_type": "display_data"
    }
   ],
   "source": [
    "d_row = []\n",
    "for row in tqdm_notebook(range(data.shape[0])):\n",
    "    if (pd.isnull(data.city[row]) == True):\n",
    "        d_row.append(row)\n",
    "data.drop(labels=d_row, axis=0, inplace=True)\n",
    "data.reset_index(inplace=True, drop=True)"
   ]
  },
  {
   "cell_type": "code",
   "execution_count": 32,
   "id": "97258654",
   "metadata": {},
   "outputs": [
    {
     "data": {
      "application/json": {
       "ascii": false,
       "bar_format": null,
       "colour": null,
       "elapsed": 0.01694488525390625,
       "initial": 0,
       "n": 0,
       "ncols": null,
       "nrows": null,
       "postfix": null,
       "prefix": "",
       "rate": null,
       "total": 81853,
       "unit": "it",
       "unit_divisor": 1000,
       "unit_scale": false
      },
      "application/vnd.jupyter.widget-view+json": {
       "model_id": "3ab25b19adee48c29206e4f350aa3640",
       "version_major": 2,
       "version_minor": 0
      },
      "text/plain": [
       "  0%|          | 0/81853 [00:00<?, ?it/s]"
      ]
     },
     "metadata": {},
     "output_type": "display_data"
    }
   ],
   "source": [
    "d_row = []\n",
    "for row in tqdm_notebook(range(data.shape[0])):\n",
    "    if (pd.isnull(data.natlty1_txt[row]) == True):\n",
    "        d_row.append(row)\n",
    "data.drop(labels=d_row, axis=0, inplace=True)\n",
    "data.reset_index(inplace=True, drop=True)"
   ]
  },
  {
   "cell_type": "code",
   "execution_count": 33,
   "id": "a71e13fd",
   "metadata": {},
   "outputs": [
    {
     "data": {
      "application/json": {
       "ascii": false,
       "bar_format": null,
       "colour": null,
       "elapsed": 0.01894855499267578,
       "initial": 0,
       "n": 0,
       "ncols": null,
       "nrows": null,
       "postfix": null,
       "prefix": "",
       "rate": null,
       "total": 81707,
       "unit": "it",
       "unit_divisor": 1000,
       "unit_scale": false
      },
      "application/vnd.jupyter.widget-view+json": {
       "model_id": "476e69a091b24a1bb426ca247d6a9d2f",
       "version_major": 2,
       "version_minor": 0
      },
      "text/plain": [
       "  0%|          | 0/81707 [00:00<?, ?it/s]"
      ]
     },
     "metadata": {},
     "output_type": "display_data"
    }
   ],
   "source": [
    "d_row = []\n",
    "for row in tqdm_notebook(range(data.shape[0])):\n",
    "    if (pd.isnull(data.ishostkid[row]) == True):\n",
    "        d_row.append(row)\n",
    "data.drop(labels=d_row, axis=0, inplace=True)\n",
    "data.reset_index(inplace=True, drop=True)"
   ]
  },
  {
   "cell_type": "code",
   "execution_count": 34,
   "id": "db017dc6",
   "metadata": {},
   "outputs": [
    {
     "data": {
      "application/json": {
       "ascii": false,
       "bar_format": null,
       "colour": null,
       "elapsed": 0.02792501449584961,
       "initial": 0,
       "n": 0,
       "ncols": null,
       "nrows": null,
       "postfix": null,
       "prefix": "",
       "rate": null,
       "total": 81577,
       "unit": "it",
       "unit_divisor": 1000,
       "unit_scale": false
      },
      "application/vnd.jupyter.widget-view+json": {
       "model_id": "e78e233ebb9a475bbb6a718a2bede726",
       "version_major": 2,
       "version_minor": 0
      },
      "text/plain": [
       "  0%|          | 0/81577 [00:00<?, ?it/s]"
      ]
     },
     "metadata": {},
     "output_type": "display_data"
    }
   ],
   "source": [
    "d_row = []\n",
    "for row in tqdm_notebook(range(data.shape[0])):\n",
    "    if (pd.isnull(data.ishostkid[row]) == True):\n",
    "        d_row.append(row)\n",
    "data.drop(labels=d_row, axis=0, inplace=True)\n",
    "data.reset_index(inplace=True, drop=True)"
   ]
  },
  {
   "cell_type": "code",
   "execution_count": 35,
   "id": "d284e69a",
   "metadata": {
    "scrolled": true
   },
   "outputs": [
    {
     "data": {
      "text/plain": [
       "ransom              73719\n",
       "location            41997\n",
       "propcomment         39419\n",
       "nperps               8382\n",
       "nperpcap             1820\n",
       "guncertain1           191\n",
       "multiple                1\n",
       "claimed                 1\n",
       "targsubtype1_txt        0\n",
       "natlty1_txt             0\n",
       "gname                   0\n",
       "iyear                   0\n",
       "individual              0\n",
       "attacktype1_txt         0\n",
       "weaptype1_txt           0\n",
       "weapsubtype1_txt        0\n",
       "ishostkid               0\n",
       "targtype1_txt           0\n",
       "suicide                 0\n",
       "imonth                  0\n",
       "success                 0\n",
       "doubtterr               0\n",
       "summary                 0\n",
       "vicinity                0\n",
       "specificity             0\n",
       "longitude               0\n",
       "latitude                0\n",
       "city                    0\n",
       "provstate               0\n",
       "region_txt              0\n",
       "country_txt             0\n",
       "extended                0\n",
       "iday                    0\n",
       "risk                    0\n",
       "dtype: int64"
      ]
     },
     "execution_count": 35,
     "metadata": {},
     "output_type": "execute_result"
    }
   ],
   "source": [
    "data.isnull().sum().sort_values(ascending=False)"
   ]
  },
  {
   "cell_type": "code",
   "execution_count": 36,
   "id": "5ffb0069",
   "metadata": {},
   "outputs": [
    {
     "data": {
      "text/plain": [
       "(81577, 28)"
      ]
     },
     "execution_count": 36,
     "metadata": {},
     "output_type": "execute_result"
    }
   ],
   "source": [
    "data.drop(columns=[\"ransom\", \"location\", \"propcomment\", \"nperpcap\", \"guncertain1\", \"claimed\"], axis=1, inplace=True)\n",
    "data.shape"
   ]
  },
  {
   "cell_type": "code",
   "execution_count": 37,
   "id": "f06c874a",
   "metadata": {},
   "outputs": [
    {
     "data": {
      "application/json": {
       "ascii": false,
       "bar_format": null,
       "colour": null,
       "elapsed": 0.018950700759887695,
       "initial": 0,
       "n": 0,
       "ncols": null,
       "nrows": null,
       "postfix": null,
       "prefix": "",
       "rate": null,
       "total": 81577,
       "unit": "it",
       "unit_divisor": 1000,
       "unit_scale": false
      },
      "application/vnd.jupyter.widget-view+json": {
       "model_id": "378fc60191dc404db5ec1c691aee4a65",
       "version_major": 2,
       "version_minor": 0
      },
      "text/plain": [
       "  0%|          | 0/81577 [00:00<?, ?it/s]"
      ]
     },
     "metadata": {},
     "output_type": "display_data"
    }
   ],
   "source": [
    "d_row = []\n",
    "for row in tqdm_notebook(range(data.shape[0])):\n",
    "    if (pd.isnull(data.nperps[row]) == True):\n",
    "        d_row.append(row)\n",
    "data.drop(labels=d_row, axis=0, inplace=True)\n",
    "data.reset_index(inplace=True, drop=True)"
   ]
  },
  {
   "cell_type": "code",
   "execution_count": 38,
   "id": "421e47b8",
   "metadata": {},
   "outputs": [
    {
     "data": {
      "application/json": {
       "ascii": false,
       "bar_format": null,
       "colour": null,
       "elapsed": 0.018981218338012695,
       "initial": 0,
       "n": 0,
       "ncols": null,
       "nrows": null,
       "postfix": null,
       "prefix": "",
       "rate": null,
       "total": 73195,
       "unit": "it",
       "unit_divisor": 1000,
       "unit_scale": false
      },
      "application/vnd.jupyter.widget-view+json": {
       "model_id": "9b435741d5234bf7b9f258065ffca3bd",
       "version_major": 2,
       "version_minor": 0
      },
      "text/plain": [
       "  0%|          | 0/73195 [00:00<?, ?it/s]"
      ]
     },
     "metadata": {},
     "output_type": "display_data"
    }
   ],
   "source": [
    "d_row = []\n",
    "for row in tqdm_notebook(range(data.shape[0])):\n",
    "    if (pd.isnull(data.multiple[row]) == True):\n",
    "        d_row.append(row)\n",
    "data.drop(labels=d_row, axis=0, inplace=True)\n",
    "data.reset_index(inplace=True, drop=True)"
   ]
  },
  {
   "cell_type": "code",
   "execution_count": 39,
   "id": "73eda199",
   "metadata": {
    "scrolled": true
   },
   "outputs": [
    {
     "data": {
      "text/plain": [
       "iyear               0\n",
       "imonth              0\n",
       "ishostkid           0\n",
       "weapsubtype1_txt    0\n",
       "weaptype1_txt       0\n",
       "nperps              0\n",
       "individual          0\n",
       "gname               0\n",
       "natlty1_txt         0\n",
       "targsubtype1_txt    0\n",
       "targtype1_txt       0\n",
       "attacktype1_txt     0\n",
       "suicide             0\n",
       "success             0\n",
       "multiple            0\n",
       "doubtterr           0\n",
       "summary             0\n",
       "vicinity            0\n",
       "specificity         0\n",
       "longitude           0\n",
       "latitude            0\n",
       "city                0\n",
       "provstate           0\n",
       "region_txt          0\n",
       "country_txt         0\n",
       "extended            0\n",
       "iday                0\n",
       "risk                0\n",
       "dtype: int64"
      ]
     },
     "execution_count": 39,
     "metadata": {},
     "output_type": "execute_result"
    }
   ],
   "source": [
    "data.isnull().sum().sort_values(ascending=False)"
   ]
  },
  {
   "cell_type": "code",
   "execution_count": 40,
   "id": "d170e6f1",
   "metadata": {},
   "outputs": [
    {
     "data": {
      "text/plain": [
       "(73194, 28)"
      ]
     },
     "execution_count": 40,
     "metadata": {},
     "output_type": "execute_result"
    }
   ],
   "source": [
    "data.shape"
   ]
  },
  {
   "cell_type": "code",
   "execution_count": 41,
   "id": "59ba0917",
   "metadata": {},
   "outputs": [],
   "source": [
    "data.to_csv('data_final.csv', index=False, encoding='utf_8_sig')"
   ]
  }
 ],
 "metadata": {
  "kernelspec": {
   "display_name": "pytorch",
   "language": "python",
   "name": "pytorch"
  },
  "language_info": {
   "codemirror_mode": {
    "name": "ipython",
    "version": 3
   },
   "file_extension": ".py",
   "mimetype": "text/x-python",
   "name": "python",
   "nbconvert_exporter": "python",
   "pygments_lexer": "ipython3",
   "version": "3.10.13"
  }
 },
 "nbformat": 4,
 "nbformat_minor": 5
}
