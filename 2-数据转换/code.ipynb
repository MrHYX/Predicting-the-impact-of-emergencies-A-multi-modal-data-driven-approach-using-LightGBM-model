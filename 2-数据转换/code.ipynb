{
 "cells": [
  {
   "cell_type": "code",
   "execution_count": 3,
   "id": "80486878",
   "metadata": {},
   "outputs": [],
   "source": [
    "import pandas as pd\n",
    "from bs4 import BeautifulSoup\n",
    "import re\n",
    "# import nltk\n",
    "# from nltk.book import *\n",
    "# from nltk.corpus import stopwords\n",
    "import numpy as np\n",
    "import matplotlib.pyplot as plt\n",
    "import seaborn as sns\n",
    "from sklearn.preprocessing import LabelEncoder\n",
    "from sklearn.model_selection import KFold, train_test_split\n",
    "from sklearn.metrics import precision_recall_fscore_support, roc_auc_score\n",
    "import lightgbm as lgb\n",
    "from sklearn.preprocessing import label_binarize\n",
    "from sklearn.tree import DecisionTreeRegressor\n",
    "from tqdm import tqdm_notebook\n",
    "import joblib\n",
    "from collections import Counter\n",
    "from sklearn.metrics import precision_score, recall_score, f1_score, accuracy_score\n",
    "from collections import defaultdict\n",
    "# from gensim import corpora\n",
    "# from gensim import models\n",
    "import warnings\n",
    "warnings.filterwarnings('ignore')"
   ]
  },
  {
   "cell_type": "code",
   "execution_count": 2,
   "id": "91de9c18",
   "metadata": {
    "scrolled": true
   },
   "outputs": [
    {
     "name": "stdout",
     "output_type": "stream",
     "text": [
      "data_final:  (73194, 28)\n"
     ]
    }
   ],
   "source": [
    "data = pd.read_csv(\"../1-数据清洗/data_final.csv\")\n",
    "print(\"data_final: \", data.shape)"
   ]
  },
  {
   "cell_type": "code",
   "execution_count": 3,
   "id": "cdc3dab4",
   "metadata": {
    "scrolled": true
   },
   "outputs": [
    {
     "name": "stdout",
     "output_type": "stream",
     "text": [
      "<class 'pandas.core.frame.DataFrame'>\n",
      "RangeIndex: 73194 entries, 0 to 73193\n",
      "Data columns (total 28 columns):\n",
      " #   Column            Non-Null Count  Dtype  \n",
      "---  ------            --------------  -----  \n",
      " 0   iyear             73194 non-null  int64  \n",
      " 1   imonth            73194 non-null  int64  \n",
      " 2   iday              73194 non-null  int64  \n",
      " 3   extended          73194 non-null  int64  \n",
      " 4   country_txt       73194 non-null  object \n",
      " 5   region_txt        73194 non-null  object \n",
      " 6   provstate         73194 non-null  object \n",
      " 7   city              73194 non-null  object \n",
      " 8   latitude          73194 non-null  float64\n",
      " 9   longitude         73194 non-null  float64\n",
      " 10  specificity       73194 non-null  float64\n",
      " 11  vicinity          73194 non-null  int64  \n",
      " 12  summary           73194 non-null  object \n",
      " 13  doubtterr         73194 non-null  int64  \n",
      " 14  multiple          73194 non-null  float64\n",
      " 15  success           73194 non-null  float64\n",
      " 16  suicide           73194 non-null  int64  \n",
      " 17  attacktype1_txt   73194 non-null  object \n",
      " 18  targtype1_txt     73194 non-null  object \n",
      " 19  targsubtype1_txt  73194 non-null  object \n",
      " 20  natlty1_txt       73194 non-null  object \n",
      " 21  gname             73194 non-null  object \n",
      " 22  individual        73194 non-null  int64  \n",
      " 23  nperps            73194 non-null  float64\n",
      " 24  weaptype1_txt     73194 non-null  object \n",
      " 25  weapsubtype1_txt  73194 non-null  object \n",
      " 26  ishostkid         73194 non-null  float64\n",
      " 27  risk              73194 non-null  int64  \n",
      "dtypes: float64(7), int64(9), object(12)\n",
      "memory usage: 15.6+ MB\n"
     ]
    }
   ],
   "source": [
    "data.info()"
   ]
  },
  {
   "cell_type": "code",
   "execution_count": 4,
   "id": "da0d56e5",
   "metadata": {},
   "outputs": [
    {
     "data": {
      "text/plain": [
       "(73194, 29)"
      ]
     },
     "execution_count": 4,
     "metadata": {},
     "output_type": "execute_result"
    }
   ],
   "source": [
    "data.insert(loc=len(data.columns), column=\"date\", value=0)\n",
    "data.shape"
   ]
  },
  {
   "cell_type": "code",
   "execution_count": 5,
   "id": "ffc70f14",
   "metadata": {},
   "outputs": [
    {
     "data": {
      "application/json": {
       "ascii": false,
       "bar_format": null,
       "colour": null,
       "elapsed": 0.023937463760375977,
       "initial": 0,
       "n": 0,
       "ncols": null,
       "nrows": null,
       "postfix": null,
       "prefix": "",
       "rate": null,
       "total": 73194,
       "unit": "it",
       "unit_divisor": 1000,
       "unit_scale": false
      },
      "application/vnd.jupyter.widget-view+json": {
       "model_id": "f8bf898e1e0743f5b5cfcd53be1ea99e",
       "version_major": 2,
       "version_minor": 0
      },
      "text/plain": [
       "  0%|          | 0/73194 [00:00<?, ?it/s]"
      ]
     },
     "metadata": {},
     "output_type": "display_data"
    },
    {
     "name": "stdout",
     "output_type": "stream",
     "text": [
      "(73091, 29)\n",
      "103\n"
     ]
    }
   ],
   "source": [
    "d_row = []\n",
    "for row in tqdm_notebook(range(data.shape[0])):\n",
    "    if (data.iday[row] == 0):\n",
    "        d_row.append(row)\n",
    "data.drop(labels=d_row, axis=0, inplace=True)\n",
    "data.reset_index(inplace=True, drop=True)\n",
    "print(data.shape)\n",
    "print(len(d_row))"
   ]
  },
  {
   "cell_type": "code",
   "execution_count": 6,
   "id": "42e01b4d",
   "metadata": {},
   "outputs": [
    {
     "data": {
      "application/json": {
       "ascii": false,
       "bar_format": null,
       "colour": null,
       "elapsed": 0.020976781845092773,
       "initial": 0,
       "n": 0,
       "ncols": null,
       "nrows": null,
       "postfix": null,
       "prefix": "",
       "rate": null,
       "total": 73091,
       "unit": "it",
       "unit_divisor": 1000,
       "unit_scale": false
      },
      "application/vnd.jupyter.widget-view+json": {
       "model_id": "c2d5479ea0664b3e8f0f97c11b16e2b1",
       "version_major": 2,
       "version_minor": 0
      },
      "text/plain": [
       "  0%|          | 0/73091 [00:00<?, ?it/s]"
      ]
     },
     "metadata": {},
     "output_type": "display_data"
    },
    {
     "name": "stdout",
     "output_type": "stream",
     "text": [
      "(73091, 29) 0        4\n",
      "1        5\n",
      "2        5\n",
      "3        6\n",
      "4        2\n",
      "        ..\n",
      "73086    4\n",
      "73087    4\n",
      "73088    4\n",
      "73089    4\n",
      "73090    4\n",
      "Name: date, Length: 73091, dtype: int64\n"
     ]
    }
   ],
   "source": [
    "import datetime\n",
    "for row in tqdm_notebook(range(data.shape[0])):\n",
    "    data.date[row] = datetime.date(data.iyear[row], data.imonth[row], data.iday[row]).isoweekday()\n",
    "print(data.shape, data[\"date\"])"
   ]
  },
  {
   "cell_type": "code",
   "execution_count": 7,
   "id": "6ae4fb53",
   "metadata": {},
   "outputs": [
    {
     "data": {
      "text/plain": [
       "(73091, 26)"
      ]
     },
     "execution_count": 7,
     "metadata": {},
     "output_type": "execute_result"
    }
   ],
   "source": [
    "data.drop(columns=[\"iyear\", \"imonth\", \"iday\"], axis=1, inplace=True)\n",
    "data.shape"
   ]
  },
  {
   "cell_type": "code",
   "execution_count": 8,
   "id": "e769a01f",
   "metadata": {},
   "outputs": [],
   "source": [
    "data.to_csv('data.csv', index=False, encoding='utf_8_sig')"
   ]
  },
  {
   "cell_type": "code",
   "execution_count": 39,
   "id": "096f4434",
   "metadata": {},
   "outputs": [],
   "source": [
    "data = pd.read_csv(\"data.csv\")"
   ]
  },
  {
   "cell_type": "code",
   "execution_count": 40,
   "id": "b8947dee",
   "metadata": {},
   "outputs": [
    {
     "data": {
      "application/json": {
       "ascii": false,
       "bar_format": null,
       "colour": null,
       "elapsed": 0.018949031829833984,
       "initial": 0,
       "n": 0,
       "ncols": null,
       "nrows": null,
       "postfix": null,
       "prefix": "",
       "rate": null,
       "total": 73091,
       "unit": "it",
       "unit_divisor": 1000,
       "unit_scale": false
      },
      "application/vnd.jupyter.widget-view+json": {
       "model_id": "aa63b737e09a47aab5210bfa5111a5d8",
       "version_major": 2,
       "version_minor": 0
      },
      "text/plain": [
       "  0%|          | 0/73091 [00:00<?, ?it/s]"
      ]
     },
     "metadata": {},
     "output_type": "display_data"
    }
   ],
   "source": [
    "#将所有:换成.，并且检查最后一个是否为.，否则添加.\n",
    "for row in tqdm_notebook(range(data.shape[0])):\n",
    "    data.summary[row] = data.summary[row].replace(\";\", '.')\n",
    "#     data.summary[row] = data.summary[row].replace(\",\", '.')\n",
    "    if data.summary[row].endswith(\".\") == False:\n",
    "        data.summary[row] = \"\".join([data.summary[row], \".\"])"
   ]
  },
  {
   "cell_type": "code",
   "execution_count": 41,
   "id": "b42cd560",
   "metadata": {
    "scrolled": true
   },
   "outputs": [
    {
     "data": {
      "application/json": {
       "ascii": false,
       "bar_format": null,
       "colour": null,
       "elapsed": 0.026928186416625977,
       "initial": 0,
       "n": 0,
       "ncols": null,
       "nrows": null,
       "postfix": null,
       "prefix": "",
       "rate": null,
       "total": 73091,
       "unit": "it",
       "unit_divisor": 1000,
       "unit_scale": false
      },
      "application/vnd.jupyter.widget-view+json": {
       "model_id": "9fc39e9081764aae9bc55fdddfe31353",
       "version_major": 2,
       "version_minor": 0
      },
      "text/plain": [
       "  0%|          | 0/73091 [00:00<?, ?it/s]"
      ]
     },
     "metadata": {},
     "output_type": "display_data"
    },
    {
     "data": {
      "text/plain": [
       "(73091, 26)"
      ]
     },
     "execution_count": 41,
     "metadata": {},
     "output_type": "execute_result"
    }
   ],
   "source": [
    "#删除关键词所在行\n",
    "for row in tqdm_notebook(range(data.shape[0])):\n",
    "    content = []\n",
    "    c_content = []\n",
    "    j = 0\n",
    "    i = 0\n",
    "    dot_count = data.summary[row].count(\".\")\n",
    "    for i in range(dot_count):\n",
    "        content.append(data.summary[row].split('.')[i]) \n",
    "#     print(content)\n",
    "    for j in range(dot_count):\n",
    "        if (\"$\" not in content[j]) and (\"casualties\" not in content[j]) and (\"damaged\" not in content[j]) and (\"damages\" not in content[j]) and (\"damage\" not in content[j]) and (\"killed\" not in content[j]) and (\"injured\" not in content[j]) and (\"injuries\" not in content[j]):\n",
    "            c_content.append(content[j])\n",
    "#         print(c_content)\n",
    "    data.summary[row] = '.'.join(c_content)\n",
    "# print(data.summary)\n",
    "data.shape"
   ]
  },
  {
   "cell_type": "code",
   "execution_count": 42,
   "id": "f4495b7c",
   "metadata": {},
   "outputs": [],
   "source": [
    "data.to_csv('data_txt_test.csv', index=False, encoding='utf_8_sig')"
   ]
  },
  {
   "cell_type": "code",
   "execution_count": 47,
   "id": "002bfaff",
   "metadata": {},
   "outputs": [
    {
     "data": {
      "application/json": {
       "ascii": false,
       "bar_format": null,
       "colour": null,
       "elapsed": 0.016946077346801758,
       "initial": 0,
       "n": 0,
       "ncols": null,
       "nrows": null,
       "postfix": null,
       "prefix": "",
       "rate": null,
       "total": 73091,
       "unit": "it",
       "unit_divisor": 1000,
       "unit_scale": false
      },
      "application/vnd.jupyter.widget-view+json": {
       "model_id": "177aa29bea37409a8ef834dfe2c460b6",
       "version_major": 2,
       "version_minor": 0
      },
      "text/plain": [
       "  0%|          | 0/73091 [00:00<?, ?it/s]"
      ]
     },
     "metadata": {},
     "output_type": "display_data"
    }
   ],
   "source": [
    "data = pd.read_csv(\"data_txt_test.csv\")\n",
    "d_row = []\n",
    "for row in tqdm_notebook(range(data.shape[0])):\n",
    "    if (pd.isnull(data.summary[row]) == True):\n",
    "        d_row.append(row)\n",
    "data.drop(labels=d_row, axis=0, inplace=True)\n",
    "data.reset_index(inplace=True, drop=True)"
   ]
  },
  {
   "cell_type": "code",
   "execution_count": 49,
   "id": "6d78878c",
   "metadata": {},
   "outputs": [
    {
     "data": {
      "application/json": {
       "ascii": false,
       "bar_format": null,
       "colour": null,
       "elapsed": 0.0219728946685791,
       "initial": 0,
       "n": 0,
       "ncols": null,
       "nrows": null,
       "postfix": null,
       "prefix": "",
       "rate": null,
       "total": 72550,
       "unit": "it",
       "unit_divisor": 1000,
       "unit_scale": false
      },
      "application/vnd.jupyter.widget-view+json": {
       "model_id": "8fbb5e2e0ece425ab570ddf2f1dbd105",
       "version_major": 2,
       "version_minor": 0
      },
      "text/plain": [
       "  0%|          | 0/72550 [00:00<?, ?it/s]"
      ]
     },
     "metadata": {},
     "output_type": "display_data"
    }
   ],
   "source": [
    "import re\n",
    "separator = ':'\n",
    "for row in tqdm_notebook(range(data.shape[0])):\n",
    "     if (\":\" in data.summary[row]):\n",
    "            data.summary[row] = data.summary[row][data.summary[row].find(':') :]\n",
    "            data.summary[row] = re.sub(r'[:]', '', data.summary[row])\n",
    "# print(data.summary)"
   ]
  },
  {
   "cell_type": "code",
   "execution_count": 50,
   "id": "b0b20dc1",
   "metadata": {},
   "outputs": [],
   "source": [
    "data.to_csv('data_nor.csv', index=False, encoding='utf_8_sig')"
   ]
  },
  {
   "cell_type": "code",
   "execution_count": 51,
   "id": "0630f868",
   "metadata": {},
   "outputs": [
    {
     "data": {
      "application/json": {
       "ascii": false,
       "bar_format": null,
       "colour": null,
       "elapsed": 0.018976449966430664,
       "initial": 0,
       "n": 0,
       "ncols": null,
       "nrows": null,
       "postfix": null,
       "prefix": "",
       "rate": null,
       "total": 72550,
       "unit": "it",
       "unit_divisor": 1000,
       "unit_scale": false
      },
      "application/vnd.jupyter.widget-view+json": {
       "model_id": "c8135d046ea044f08fcda9d6b89c6bf4",
       "version_major": 2,
       "version_minor": 0
      },
      "text/plain": [
       "  0%|          | 0/72550 [00:00<?, ?it/s]"
      ]
     },
     "metadata": {},
     "output_type": "display_data"
    },
    {
     "name": "stdout",
     "output_type": "stream",
     "text": [
      "10106 16723 22891 22830 72550\n"
     ]
    }
   ],
   "source": [
    "n = m = l = z = 0\n",
    "for row in tqdm_notebook(range(data.shape[0])):\n",
    "    if (data.risk[row] == 0):\n",
    "        n = n + 1\n",
    "    elif (data.risk[row] == 1):\n",
    "        m = m + 1\n",
    "    elif (data.risk[row] == 2):\n",
    "        l = l + 1\n",
    "    elif (data.risk[row] == 3):\n",
    "        z = z + 1\n",
    "print(n, m, l, z, n + m + l + z)"
   ]
  }
 ],
 "metadata": {
  "kernelspec": {
   "display_name": "torch_test",
   "language": "python",
   "name": "torch_test"
  },
  "language_info": {
   "codemirror_mode": {
    "name": "ipython",
    "version": 3
   },
   "file_extension": ".py",
   "mimetype": "text/x-python",
   "name": "python",
   "nbconvert_exporter": "python",
   "pygments_lexer": "ipython3",
   "version": "3.10.13"
  }
 },
 "nbformat": 4,
 "nbformat_minor": 5
}
