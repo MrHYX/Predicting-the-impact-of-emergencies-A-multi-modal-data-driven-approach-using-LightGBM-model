{
 "cells": [
  {
   "cell_type": "code",
   "execution_count": 1,
   "id": "a7946b1e",
   "metadata": {},
   "outputs": [],
   "source": [
    "import pandas as pd\n",
    "import numpy as np\n",
    "import matplotlib.pyplot as plt\n",
    "import seaborn as sns\n",
    "from sklearn.preprocessing import LabelEncoder\n",
    "from sklearn.model_selection import KFold, train_test_split\n",
    "from sklearn.metrics import precision_recall_fscore_support, roc_auc_score\n",
    "import lightgbm as lgb\n",
    "from sklearn.tree import DecisionTreeRegressor\n",
    "from tqdm import tqdm_notebook\n",
    "import joblib\n",
    "import warnings\n",
    "warnings.filterwarnings('ignore')"
   ]
  },
  {
   "cell_type": "code",
   "execution_count": 2,
   "id": "a6f339ab",
   "metadata": {},
   "outputs": [
    {
     "name": "stdout",
     "output_type": "stream",
     "text": [
      "data_shape:  (72550, 26)\n"
     ]
    }
   ],
   "source": [
    "data = pd.read_csv(\"../2-数据转换/data_nor.csv\")\n",
    "print(\"data_shape: \",data.shape)"
   ]
  },
  {
   "cell_type": "code",
   "execution_count": 3,
   "id": "65f099a2",
   "metadata": {},
   "outputs": [
    {
     "name": "stdout",
     "output_type": "stream",
     "text": [
      "11\n"
     ]
    }
   ],
   "source": [
    "category_columns = [ col for col in data.columns if data[col].dtype == 'object' ]\n",
    "category_columns.remove(\"summary\")\n",
    "print(len(category_columns))"
   ]
  },
  {
   "cell_type": "code",
   "execution_count": 4,
   "id": "7e3f0682",
   "metadata": {
    "scrolled": true
   },
   "outputs": [
    {
     "data": {
      "application/json": {
       "ascii": false,
       "bar_format": null,
       "colour": null,
       "elapsed": 0.018950700759887695,
       "initial": 0,
       "n": 0,
       "ncols": null,
       "nrows": null,
       "postfix": null,
       "prefix": "",
       "rate": null,
       "total": 72550,
       "unit": "it",
       "unit_divisor": 1000,
       "unit_scale": false
      },
      "application/vnd.jupyter.widget-view+json": {
       "model_id": "d9f99766c2404c16abacf3d1fc4f5026",
       "version_major": 2,
       "version_minor": 0
      },
      "text/plain": [
       "  0%|          | 0/72550 [00:00<?, ?it/s]"
      ]
     },
     "metadata": {},
     "output_type": "display_data"
    },
    {
     "name": "stdout",
     "output_type": "stream",
     "text": [
      "       extended  country_txt  region_txt  provstate   city   latitude  \\\n",
      "0             0          157           6        567   4035  37.005105   \n",
      "1             0          157           6        252  15269  37.791927   \n",
      "2             0          157           6       1564  12390  43.076592   \n",
      "3             0          157           6       1564  12390  43.072950   \n",
      "4             0          157           6        328   5528  39.758968   \n",
      "...         ...          ...         ...        ...    ...        ...   \n",
      "72545         0          164           5         14    219  12.849085   \n",
      "72546         0          105           8        663   3154  28.709444   \n",
      "72547         0          164           5         36  17467  15.305307   \n",
      "72548         0            0           8        634   9328  34.523842   \n",
      "72549         0          157           6        653  21608  37.688889   \n",
      "\n",
      "        longitude  specificity  vicinity  \\\n",
      "0      -89.176269          1.0         0   \n",
      "1     -122.225906          1.0         0   \n",
      "2      -89.412488          1.0         0   \n",
      "3      -89.386694          1.0         0   \n",
      "4     -104.876305          1.0         0   \n",
      "...           ...          ...       ...   \n",
      "72545   45.037275          1.0         0   \n",
      "72546   82.163611          1.0         0   \n",
      "72547   43.019490          2.0         0   \n",
      "72548   69.140304          1.0         0   \n",
      "72549  -97.336111          1.0         0   \n",
      "\n",
      "                                                 summary  ...  \\\n",
      "0       Unknown African American assailants fired sev...  ...   \n",
      "1       Unknown perpetrators detonated explosives at ...  ...   \n",
      "2       Karl Armstrong, a member of the New Years Gan...  ...   \n",
      "3       Karl Armstrong, a member of the New Years Gan...  ...   \n",
      "4       Unknown perpetrators threw a Molotov cocktail...  ...   \n",
      "...                                                  ...  ...   \n",
      "72545   An explosive device detonated targeting the o...  ...   \n",
      "72546   Assailants set fire to the vehicle of Ganesh ...  ...   \n",
      "72547   Assailants fired mortar shells targeting resi...  ...   \n",
      "72548   No group claimed responsibility for the incident  ...   \n",
      "72549   An assailant opened fire on Dr. George Tiller...  ...   \n",
      "\n",
      "       targsubtype1_txt  natlty1_txt  gname  individual  nperps  \\\n",
      "0                    73          170    283           0   -99.0   \n",
      "1                    18          170   1280           0   -99.0   \n",
      "2                    50          170    854           0     1.0   \n",
      "3                    27          170    854           0     1.0   \n",
      "4                    50          170    685           0   -99.0   \n",
      "...                 ...          ...    ...         ...     ...   \n",
      "72545                35           71   1280           0   -99.0   \n",
      "72546                28          111   1280           0   -99.0   \n",
      "72547                32          178    505           0   -99.0   \n",
      "72548                83            0   1280           0   -99.0   \n",
      "72549                71          170    152           1     1.0   \n",
      "\n",
      "       weaptype1_txt  weapsubtype1_txt  ishostkid  risk  date  \n",
      "0                  2                27        0.0     1     4  \n",
      "1                  1                26        0.0     1     5  \n",
      "2                  3                12        0.0     1     5  \n",
      "3                  3                 5        0.0     1     6  \n",
      "4                  3                12        0.0     1     2  \n",
      "...              ...               ...        ...   ...   ...  \n",
      "72545              1                26        0.0     1     4  \n",
      "72546              3                 5        0.0     1     4  \n",
      "72547              1                18        0.0     1     4  \n",
      "72548              2                27        0.0     2     4  \n",
      "72549              2                 7        0.0     2     4  \n",
      "\n",
      "[72550 rows x 26 columns]\n"
     ]
    }
   ],
   "source": [
    "# LabelEncoder\n",
    "for col in tqdm_notebook(data[category_columns]):\n",
    "    encoder = LabelEncoder()\n",
    "    encoder.fit(list(data[col].values))\n",
    "    data[col] = encoder.transform(list(data[col].values))\n",
    "print(data)"
   ]
  },
  {
   "cell_type": "code",
   "execution_count": 5,
   "id": "72a015bd",
   "metadata": {},
   "outputs": [],
   "source": [
    "data.to_csv('data_stand.csv', index=False, encoding='utf_8_sig')"
   ]
  },
  {
   "cell_type": "code",
   "execution_count": 6,
   "id": "43589675",
   "metadata": {},
   "outputs": [
    {
     "data": {
      "text/plain": [
       "(array([    0,     1,     2, ..., 72547, 72548, 72549]),\n",
       " array([    3,    14,    18, ..., 72525, 72542, 72544]))"
      ]
     },
     "execution_count": 6,
     "metadata": {},
     "output_type": "execute_result"
    }
   ],
   "source": [
    "data = pd.read_csv(\"data_stand.csv\")\n",
    "data.shape\n",
    "X = data.drop(columns=['risk', 'summary', 'success'], axis=1)\n",
    "y = data['risk']\n",
    "kf = KFold(n_splits=10, random_state=0, shuffle=True)\n",
    "splits = kf.split(X, y)\n",
    "next(iter(splits))"
   ]
  },
  {
   "cell_type": "code",
   "execution_count": 7,
   "id": "1b971d6e",
   "metadata": {},
   "outputs": [
    {
     "name": "stdout",
     "output_type": "stream",
     "text": [
      "第 1 折\n",
      "\n",
      "0.6690098782448886\n",
      "第 2 折\n",
      "\n",
      "0.669300865303622\n",
      "第 3 折\n",
      "\n",
      "0.6680450264185619\n",
      "第 4 折\n",
      "\n",
      "0.6674477371927406\n",
      "第 5 折\n",
      "\n",
      "0.667463052301095\n",
      "第 6 折\n",
      "\n",
      "0.6673405314342599\n",
      "第 7 折\n",
      "\n",
      "0.6694080710621028\n",
      "第 8 折\n",
      "\n",
      "0.6704494984302014\n",
      "第 9 折\n",
      "\n",
      "0.6698675243127346\n"
     ]
    }
   ],
   "source": [
    "# RF\n",
    "from sklearn.ensemble import RandomForestClassifier\n",
    "\n",
    "RFC_roc_scores = []\n",
    "RFC_feature_importances = pd.DataFrame(index=None)\n",
    "RFC_feature_importances['Feature'] = data.drop(['risk', 'summary', 'success'], axis=1).columns\n",
    "\n",
    "for k, (train_indices, test_indices) in enumerate(splits):\n",
    "    print(\"第 %d 折\\n\" % (k + 1))\n",
    "    X_train, X_test = X.iloc[train_indices], X.iloc[test_indices]\n",
    "    y_train, y_test = y.iloc[train_indices], y.iloc[test_indices]\n",
    "    \n",
    "    RFC = RandomForestClassifier(random_state=0, oob_score=True)\n",
    "    RFC.fit(X_train, y_train)\n",
    "    RFC_feature_importances[f'fold_{k+1}'] = RFC.feature_importances_\n",
    "    y_pred = RFC.predict(X_test)\n",
    "    print(RFC.oob_score_)\n",
    "    \n",
    "#     roc_auc = roc_auc_score(y_test, y_pred, multi_class='ovo', average=\"weighted\")\n",
    "#     print(f\" Fold {k + 1} | AUC_ROC: { roc_auc * 100}%\")\n",
    "#     RFC_roc_scores.append(roc_auc)\n",
    "    \n",
    "# print(f'average roc score: {np.mean(RFC_roc_scores)}')"
   ]
  },
  {
   "cell_type": "code",
   "execution_count": 8,
   "id": "cf38d904",
   "metadata": {
    "scrolled": true
   },
   "outputs": [
    {
     "name": "stdout",
     "output_type": "stream",
     "text": [
      "Using matplotlib backend: TkAgg\n"
     ]
    },
    {
     "data": {
      "text/plain": [
       "Text(0.5, 1.0, '15 top features importnce over 10 folds average.')"
      ]
     },
     "execution_count": 8,
     "metadata": {},
     "output_type": "execute_result"
    }
   ],
   "source": [
    "%matplotlib \n",
    "%config InlineBackend.figure_format = 'svg'\n",
    "RFC_feature_importances['Feature importance'] = RFC_feature_importances[[f'fold_{k+1}' for k in range(kf.n_splits-1)]].mean(axis=1)\n",
    "plt.figure(figsize=(14, 7))\n",
    "sns.barplot(data=RFC_feature_importances.sort_values(by='Feature importance', ascending=False).head(15),\n",
    "            x = 'Feature importance', y = 'Feature')\n",
    "plt.title(\"15 top features importnce over 10 folds average.\".format(kf.n_splits-1))"
   ]
  },
  {
   "cell_type": "code",
   "execution_count": 9,
   "id": "cbb441c8",
   "metadata": {},
   "outputs": [],
   "source": [
    "from sklearn.ensemble import RandomForestClassifier as RFC\n",
    "from sklearn.model_selection import cross_val_score\n",
    "import matplotlib.pyplot as plt\n",
    "from sklearn.preprocessing import StandardScaler\n",
    "from sklearn.feature_selection import RFECV\n",
    "from sklearn.feature_selection import RFE"
   ]
  },
  {
   "cell_type": "code",
   "execution_count": 10,
   "id": "3535f5cd",
   "metadata": {},
   "outputs": [],
   "source": [
    "data = pd.read_csv(\"data_stand.csv\")\n",
    "data.shape\n",
    "X = data.drop(columns=['risk', 'summary', 'success'], axis=1)\n",
    "Y = data['risk']"
   ]
  },
  {
   "cell_type": "code",
   "execution_count": 15,
   "id": "a1133c67",
   "metadata": {},
   "outputs": [
    {
     "name": "stdout",
     "output_type": "stream",
     "text": [
      "模型特征因子重要性：\n",
      "[0.0081725  0.02735895 0.01615544 0.05399555 0.07930386 0.09568525\n",
      " 0.09942881 0.01944931 0.01002489 0.00281546 0.01536817 0.00713939\n",
      " 0.07042258 0.06486277 0.10705994 0.03081289 0.04206323 0.00085552\n",
      " 0.02617444 0.04873877 0.08971154 0.00960291 0.07479782]\n"
     ]
    }
   ],
   "source": [
    "RFC_model = RandomForestClassifier(random_state=0, oob_score=True)                   \n",
    "#feature_importances_基于杂质的特征重要性\n",
    "RFC_feature_importances = RFC_model.fit(X, Y).feature_importances_    # 特征重要性\n",
    "print(\"模型特征因子重要性：\")\n",
    "print(RFC_feature_importances)"
   ]
  },
  {
   "cell_type": "code",
   "execution_count": 17,
   "id": "1516fbad",
   "metadata": {},
   "outputs": [
    {
     "data": {
      "application/json": {
       "ascii": false,
       "bar_format": null,
       "colour": null,
       "elapsed": 0.019946575164794922,
       "initial": 0,
       "n": 0,
       "ncols": null,
       "nrows": null,
       "postfix": null,
       "prefix": "",
       "rate": null,
       "total": 23,
       "unit": "it",
       "unit_divisor": 1000,
       "unit_scale": false
      },
      "application/vnd.jupyter.widget-view+json": {
       "model_id": "7dc4490dd6954bb48fe80cf140fbbb2d",
       "version_major": 2,
       "version_minor": 0
      },
      "text/plain": [
       "  0%|          | 0/23 [00:00<?, ?it/s]"
      ]
     },
     "metadata": {},
     "output_type": "display_data"
    },
    {
     "name": "stdout",
     "output_type": "stream",
     "text": [
      "输出所有分类结果 [0.3473052002354579, 0.36624396012601507, 0.4682153411940864, 0.5551485234565616, 0.5620816637019669, 0.5849349531303577, 0.5900623892842802, 0.5864097249212433, 0.59666473914784, 0.5984841460932467, 0.6000830386564292, 0.5995316917157026, 0.5975192644389176, 0.6000830204178748, 0.601502682706691, 0.6032394826794536, 0.6031705477831728, 0.6022746055847631, 0.6038734981479454, 0.6061064181486712, 0.6076777197686876, 0.6073056048121915, 0.6077053175513116]\n",
      "输出最优分类结果 0.6077053175513116 对应的特征数量 23\n"
     ]
    }
   ],
   "source": [
    "score = []\n",
    "feature_number = len(X.columns)\n",
    "#range创建的结果不包括feature_number+1\n",
    "for i in tqdm_notebook(range(1, feature_number+1, 1)):\n",
    "    #fit_transform适合数据，然后转换它\n",
    "    X_transform = RFE(RFC_model, n_features_to_select=i, step=1).fit_transform(X, Y)\n",
    "    # 交叉验证\n",
    "    RFE_score = cross_val_score(RFC_model, X_transform, Y, cv=3).mean()\n",
    "    # 交叉验证结果保存到列表\n",
    "    score.append(RFE_score)\n",
    "print('输出所有分类结果',score)\n",
    "print('输出最优分类结果',max(score),'对应的特征数量', (score.index(max(score))*1)+1)# 输出最优分类结果和对应的特征数量"
   ]
  },
  {
   "cell_type": "code",
   "execution_count": 11,
   "id": "9b7be674",
   "metadata": {},
   "outputs": [],
   "source": [
    "feature_number = len(X.columns)\n",
    "score = [0.3473052002354579, 0.36624396012601507, 0.4682153411940864, 0.5551485234565616, 0.5620816637019669, 0.5849349531303577, 0.5900623892842802, 0.5864097249212433, 0.59666473914784, 0.5984841460932467, 0.6000830386564292, 0.5995316917157026, 0.5975192644389176, 0.6000830204178748, 0.601502682706691, 0.6032394826794536, 0.6031705477831728, 0.6022746055847631, 0.6038734981479454, 0.6061064181486712, 0.6076777197686876, 0.6073056048121915, 0.6077053175513116]"
   ]
  },
  {
   "cell_type": "code",
   "execution_count": 12,
   "id": "1b27d301",
   "metadata": {},
   "outputs": [
    {
     "name": "stdout",
     "output_type": "stream",
     "text": [
      "Using matplotlib backend: TkAgg\n"
     ]
    }
   ],
   "source": [
    "%matplotlib\n",
    "\n",
    "plt.figure(figsize=[10, 5])\n",
    "plt.plot(range(1, feature_number + 1, 1), score)\n",
    "plt.xticks(range(1, feature_number + 1, 2))\n",
    "\n",
    "plt.title(\"Recursive feature elimination\")\n",
    "plt.xlabel(\"Number of features\") \n",
    "plt.ylabel(\"Accuracy\")\n",
    "\n",
    "plt.show()"
   ]
  },
  {
   "cell_type": "code",
   "execution_count": 20,
   "id": "43b09420",
   "metadata": {},
   "outputs": [],
   "source": [
    "plt.figure(figsize=[20, 5])\n",
    "plt.plot(range(1, feature_number + 1, 1), score)\n",
    "plt.xticks(range(1, feature_number + 1, 2))\n",
    "plt.show()"
   ]
  },
  {
   "cell_type": "code",
   "execution_count": 22,
   "id": "058dd970",
   "metadata": {},
   "outputs": [
    {
     "name": "stdout",
     "output_type": "stream",
     "text": [
      "RFE所选特征的掩码 [False False False False  True  True  True False False False False False\n",
      "  True False  True False False False False False  True False  True]\n",
      "RFE特征排除排序 [14  7 11  2  1  1  1  9 13 16 10 15  1  3  1  6  4 17  8  5  1 12  1]\n",
      "RFE选择特征数量 7\n",
      "RFE最优特征交叉验证分数 0.5900623892842802\n"
     ]
    }
   ],
   "source": [
    "# n_features_to_select表示筛选最终特征数量，step表示每次排除一个特征\n",
    "# selector1 = RFE(RFC_model, n_features_to_select=(score.index(max(score))*1)+1, step=1).fit(X, Y)\n",
    "selector1 = RFE(RFC_model, n_features_to_select=7, step=1).fit(X, Y)\n",
    "#所选特征的掩码和排序\n",
    "print('RFE所选特征的掩码',selector1.support_)\n",
    "print('RFE特征排除排序',selector1.ranking_)\n",
    "print('RFE选择特征数量',selector1.n_features_)\n",
    "X_transform1 = selector1.transform(X)\n",
    "RFE_optimal_score =cross_val_score(RFC_model, X_transform1, Y, cv=3).mean()\n",
    "print('RFE最优特征交叉验证分数',RFE_optimal_score)"
   ]
  },
  {
   "cell_type": "code",
   "execution_count": 24,
   "id": "01fe9d84",
   "metadata": {},
   "outputs": [
    {
     "name": "stdout",
     "output_type": "stream",
     "text": [
      "['extended' 'country_txt' 'region_txt' 'provstate' 'city' 'latitude'\n",
      " 'longitude' 'specificity' 'vicinity' 'doubtterr' 'multiple' 'suicide'\n",
      " 'attacktype1_txt' 'targtype1_txt' 'targsubtype1_txt' 'natlty1_txt'\n",
      " 'gname' 'individual' 'nperps' 'weaptype1_txt' 'weapsubtype1_txt'\n",
      " 'ishostkid' 'date']\n",
      "['city', 'latitude', 'longitude', 'attacktype1_txt', 'targsubtype1_txt', 'weapsubtype1_txt', 'date']\n"
     ]
    }
   ],
   "source": [
    "print(selector1.feature_names_in_)\n",
    "features = []\n",
    "for i in range(1, feature_number, 1):\n",
    "    if selector1.ranking_[i] == 1:\n",
    "        features.append(selector1.feature_names_in_[i])\n",
    "print(features)"
   ]
  },
  {
   "cell_type": "code",
   "execution_count": 25,
   "id": "80fa2de3",
   "metadata": {},
   "outputs": [
    {
     "name": "stdout",
     "output_type": "stream",
     "text": [
      "        city   latitude   longitude  attacktype1_txt  targsubtype1_txt  \\\n",
      "0       4035  37.005105  -89.176269                0                73   \n",
      "1      15269  37.791927 -122.225906                2                18   \n",
      "2      12390  43.076592  -89.412488                3                50   \n",
      "3      12390  43.072950  -89.386694                3                27   \n",
      "4       5528  39.758968 -104.876305                3                50   \n",
      "...      ...        ...         ...              ...               ...   \n",
      "72545    219  12.849085   45.037275                2                35   \n",
      "72546   3154  28.709444   82.163611                3                28   \n",
      "72547  17467  15.305307   43.019490                2                32   \n",
      "72548   9328  34.523842   69.140304                0                83   \n",
      "72549  21608  37.688889  -97.336111                1                71   \n",
      "\n",
      "       weapsubtype1_txt  date  \n",
      "0                    27     4  \n",
      "1                    26     5  \n",
      "2                    12     5  \n",
      "3                     5     6  \n",
      "4                    12     2  \n",
      "...                 ...   ...  \n",
      "72545                26     4  \n",
      "72546                 5     4  \n",
      "72547                18     4  \n",
      "72548                27     4  \n",
      "72549                 7     4  \n",
      "\n",
      "[72550 rows x 7 columns]\n"
     ]
    }
   ],
   "source": [
    "data_ = data.loc[:, features]\n",
    "print(data_)"
   ]
  },
  {
   "cell_type": "code",
   "execution_count": 26,
   "id": "e6dafefd",
   "metadata": {},
   "outputs": [],
   "source": [
    "data_.to_csv('data_columns.csv', index=False, encoding='utf_8_sig')"
   ]
  }
 ],
 "metadata": {
  "kernelspec": {
   "display_name": "torch_test",
   "language": "python",
   "name": "torch_test"
  },
  "language_info": {
   "codemirror_mode": {
    "name": "ipython",
    "version": 3
   },
   "file_extension": ".py",
   "mimetype": "text/x-python",
   "name": "python",
   "nbconvert_exporter": "python",
   "pygments_lexer": "ipython3",
   "version": "3.10.13"
  }
 },
 "nbformat": 4,
 "nbformat_minor": 5
}
